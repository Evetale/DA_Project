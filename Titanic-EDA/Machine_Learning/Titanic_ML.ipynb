{
 "cells": [
  {
   "cell_type": "markdown",
   "metadata": {},
   "source": [
    "# Titanic Survival Machine Learning\n",
    "\n",
    "ML with feature processing and model selecting \n",
    "\n",
    "Data can be downloaded from [this link](https://www.kaggle.com/c/titanic/data)"
   ]
  },
  {
   "cell_type": "code",
   "execution_count": 1,
   "metadata": {
    "collapsed": true
   },
   "outputs": [],
   "source": [
    "import pandas as pd\n",
    "import numpy as np\n",
    "\n",
    "import sklearn.preprocessing as prep\n",
    "from sklearn.metrics import accuracy_score\n",
    "from sklearn.linear_model import LogisticRegression\n",
    "from sklearn.svm import SVC, LinearSVC\n",
    "from sklearn.tree import DecisionTreeClassifier"
   ]
  },
  {
   "cell_type": "code",
   "execution_count": 2,
   "metadata": {},
   "outputs": [
    {
     "data": {
      "text/plain": [
       "PassengerId      0\n",
       "Survived         0\n",
       "Pclass           0\n",
       "Name             0\n",
       "Sex              0\n",
       "Age            177\n",
       "SibSp            0\n",
       "Parch            0\n",
       "Ticket           0\n",
       "Fare             0\n",
       "Cabin          687\n",
       "Embarked         2\n",
       "dtype: int64"
      ]
     },
     "execution_count": 2,
     "metadata": {},
     "output_type": "execute_result"
    }
   ],
   "source": [
    "df_train = pd.read_csv('train.csv')\n",
    "df_train.isnull().sum()"
   ]
  },
  {
   "cell_type": "markdown",
   "metadata": {},
   "source": [
    "## Feature Processing\n",
    "\n",
    "Based on my previous EDA report, there is no duplicate value in the training data set.\n",
    "\n",
    "For the missing values(column 'Age', 'Cabin', 'Embarked') in training data set:\n",
    "\n",
    "1. 'Cabin' column will be dropped as most of its values are Nan;\n",
    "2. 'S' will be used as the assumption values of 'Embarked' column considering the avaliable data's distribution\n",
    "3. Median value will be used as a good approach for age column's missing values ( according to relate information : pclass and sex)\n",
    "4. Adding new feature['Title'] based on the information from Name column"
   ]
  },
  {
   "cell_type": "code",
   "execution_count": 3,
   "metadata": {},
   "outputs": [
    {
     "data": {
      "text/html": [
       "<div>\n",
       "<table border=\"1\" class=\"dataframe\">\n",
       "  <thead>\n",
       "    <tr style=\"text-align: right;\">\n",
       "      <th>Title</th>\n",
       "      <th>Capt</th>\n",
       "      <th>Col</th>\n",
       "      <th>Countess</th>\n",
       "      <th>Don</th>\n",
       "      <th>Dr</th>\n",
       "      <th>Jonkheer</th>\n",
       "      <th>Lady</th>\n",
       "      <th>Major</th>\n",
       "      <th>Master</th>\n",
       "      <th>Miss</th>\n",
       "      <th>Mlle</th>\n",
       "      <th>Mme</th>\n",
       "      <th>Mr</th>\n",
       "      <th>Mrs</th>\n",
       "      <th>Ms</th>\n",
       "      <th>Rev</th>\n",
       "      <th>Sir</th>\n",
       "    </tr>\n",
       "    <tr>\n",
       "      <th>Sex</th>\n",
       "      <th></th>\n",
       "      <th></th>\n",
       "      <th></th>\n",
       "      <th></th>\n",
       "      <th></th>\n",
       "      <th></th>\n",
       "      <th></th>\n",
       "      <th></th>\n",
       "      <th></th>\n",
       "      <th></th>\n",
       "      <th></th>\n",
       "      <th></th>\n",
       "      <th></th>\n",
       "      <th></th>\n",
       "      <th></th>\n",
       "      <th></th>\n",
       "      <th></th>\n",
       "    </tr>\n",
       "  </thead>\n",
       "  <tbody>\n",
       "    <tr>\n",
       "      <th>female</th>\n",
       "      <td>0</td>\n",
       "      <td>0</td>\n",
       "      <td>1</td>\n",
       "      <td>0</td>\n",
       "      <td>1</td>\n",
       "      <td>0</td>\n",
       "      <td>1</td>\n",
       "      <td>0</td>\n",
       "      <td>0</td>\n",
       "      <td>182</td>\n",
       "      <td>2</td>\n",
       "      <td>1</td>\n",
       "      <td>0</td>\n",
       "      <td>125</td>\n",
       "      <td>1</td>\n",
       "      <td>0</td>\n",
       "      <td>0</td>\n",
       "    </tr>\n",
       "    <tr>\n",
       "      <th>male</th>\n",
       "      <td>1</td>\n",
       "      <td>2</td>\n",
       "      <td>0</td>\n",
       "      <td>1</td>\n",
       "      <td>6</td>\n",
       "      <td>1</td>\n",
       "      <td>0</td>\n",
       "      <td>2</td>\n",
       "      <td>40</td>\n",
       "      <td>0</td>\n",
       "      <td>0</td>\n",
       "      <td>0</td>\n",
       "      <td>517</td>\n",
       "      <td>0</td>\n",
       "      <td>0</td>\n",
       "      <td>6</td>\n",
       "      <td>1</td>\n",
       "    </tr>\n",
       "  </tbody>\n",
       "</table>\n",
       "</div>"
      ],
      "text/plain": [
       "Title   Capt  Col  Countess  Don  Dr  Jonkheer  Lady  Major  Master  Miss  \\\n",
       "Sex                                                                         \n",
       "female     0    0         1    0   1         0     1      0       0   182   \n",
       "male       1    2         0    1   6         1     0      2      40     0   \n",
       "\n",
       "Title   Mlle  Mme   Mr  Mrs  Ms  Rev  Sir  \n",
       "Sex                                        \n",
       "female     2    1    0  125   1    0    0  \n",
       "male       0    0  517    0   0    6    1  "
      ]
     },
     "execution_count": 3,
     "metadata": {},
     "output_type": "execute_result"
    }
   ],
   "source": [
    "df_train = df_train.drop(['PassengerId', 'Ticket', 'Cabin'], axis = 1)\n",
    "df_train['Embarked'].fillna('S', inplace = True)\n",
    "\n",
    "# extract new feature from Name column\n",
    "df_train['Title'] = df_train['Name'].str.extract(' ([A-Za-z]+)\\.', expand=False)\n",
    "\n",
    "# checking how many titles collected\n",
    "pd.crosstab(df_train['Sex'], df_train['Title'])"
   ]
  },
  {
   "cell_type": "code",
   "execution_count": 4,
   "metadata": {},
   "outputs": [
    {
     "data": {
      "text/html": [
       "<div>\n",
       "<table border=\"1\" class=\"dataframe\">\n",
       "  <thead>\n",
       "    <tr style=\"text-align: right;\">\n",
       "      <th></th>\n",
       "      <th>Title</th>\n",
       "      <th>Survived</th>\n",
       "    </tr>\n",
       "  </thead>\n",
       "  <tbody>\n",
       "    <tr>\n",
       "      <th>0</th>\n",
       "      <td>Master</td>\n",
       "      <td>0.575000</td>\n",
       "    </tr>\n",
       "    <tr>\n",
       "      <th>1</th>\n",
       "      <td>Miss</td>\n",
       "      <td>0.702703</td>\n",
       "    </tr>\n",
       "    <tr>\n",
       "      <th>2</th>\n",
       "      <td>Mr</td>\n",
       "      <td>0.156673</td>\n",
       "    </tr>\n",
       "    <tr>\n",
       "      <th>3</th>\n",
       "      <td>Mrs</td>\n",
       "      <td>0.793651</td>\n",
       "    </tr>\n",
       "    <tr>\n",
       "      <th>4</th>\n",
       "      <td>Rare</td>\n",
       "      <td>0.347826</td>\n",
       "    </tr>\n",
       "  </tbody>\n",
       "</table>\n",
       "</div>"
      ],
      "text/plain": [
       "    Title  Survived\n",
       "0  Master  0.575000\n",
       "1    Miss  0.702703\n",
       "2      Mr  0.156673\n",
       "3     Mrs  0.793651\n",
       "4    Rare  0.347826"
      ]
     },
     "execution_count": 4,
     "metadata": {},
     "output_type": "execute_result"
    }
   ],
   "source": [
    "# Replace the title with more common ones\n",
    "df_train['Title'] = df_train['Title'].replace(['Lady', 'Countess','Capt', 'Col','Don', 'Dr',\\\n",
    "                                               'Major', 'Rev', 'Sir', 'Jonkheer', 'Dona'], 'Rare')\n",
    "\n",
    "df_train['Title'] = df_train['Title'].replace(['Mlle', 'Ms', 'Mme'],['Miss', 'Miss', 'Mrs'])\n",
    "\n",
    "df_train[['Title', 'Survived']].groupby('Title', as_index = False).mean()"
   ]
  },
  {
   "cell_type": "code",
   "execution_count": 5,
   "metadata": {},
   "outputs": [
    {
     "data": {
      "text/html": [
       "<div>\n",
       "<table border=\"1\" class=\"dataframe\">\n",
       "  <thead>\n",
       "    <tr style=\"text-align: right;\">\n",
       "      <th></th>\n",
       "      <th></th>\n",
       "      <th>Age</th>\n",
       "    </tr>\n",
       "    <tr>\n",
       "      <th>Sex</th>\n",
       "      <th>Pclass</th>\n",
       "      <th></th>\n",
       "    </tr>\n",
       "  </thead>\n",
       "  <tbody>\n",
       "    <tr>\n",
       "      <th rowspan=\"3\" valign=\"top\">female</th>\n",
       "      <th>1</th>\n",
       "      <td>35.0</td>\n",
       "    </tr>\n",
       "    <tr>\n",
       "      <th>2</th>\n",
       "      <td>28.0</td>\n",
       "    </tr>\n",
       "    <tr>\n",
       "      <th>3</th>\n",
       "      <td>21.5</td>\n",
       "    </tr>\n",
       "    <tr>\n",
       "      <th rowspan=\"3\" valign=\"top\">male</th>\n",
       "      <th>1</th>\n",
       "      <td>40.0</td>\n",
       "    </tr>\n",
       "    <tr>\n",
       "      <th>2</th>\n",
       "      <td>30.0</td>\n",
       "    </tr>\n",
       "    <tr>\n",
       "      <th>3</th>\n",
       "      <td>25.0</td>\n",
       "    </tr>\n",
       "  </tbody>\n",
       "</table>\n",
       "</div>"
      ],
      "text/plain": [
       "                Age\n",
       "Sex    Pclass      \n",
       "female 1       35.0\n",
       "       2       28.0\n",
       "       3       21.5\n",
       "male   1       40.0\n",
       "       2       30.0\n",
       "       3       25.0"
      ]
     },
     "execution_count": 5,
     "metadata": {},
     "output_type": "execute_result"
    }
   ],
   "source": [
    "guess_median = df_train[['Sex', 'Pclass', 'Age']].groupby(['Sex','Pclass']).median()\n",
    "guess_values = guess_median['Age'].values.tolist()\n",
    "\n",
    "#check the guess values\n",
    "guess_median"
   ]
  },
  {
   "cell_type": "code",
   "execution_count": 6,
   "metadata": {
    "collapsed": true
   },
   "outputs": [],
   "source": [
    "#encoding the sex information\n",
    "df_train['Sex'] = df_train['Sex'].map({'female':1, 'male':0})\n",
    "\n",
    "#replace the missing age values with guess values\n",
    "for sex in range(0,2) :\n",
    "    for pclass in range(1,4):\n",
    "        df_train.loc[(df_train['Sex'] == sex) & (df_train['Pclass'] == pclass)\\\n",
    "                     & (df_train['Age'].isnull()), 'Age'] = guess_values[pclass*(sex+1)-1]\n",
    "        \n",
    "# encoding categorical features\n",
    "df_train = pd.get_dummies(df_train, columns = ['Pclass', 'Embarked', 'Title'])\n",
    "\n",
    "# scaling numerical features\n",
    "df_train['Age'] = prep.scale(df_train['Age'])\n",
    "df_train['Fare'] = prep.scale(df_train['Fare'])\n",
    "df_train = df_train.drop('Name', axis = 1)\n",
    "\n",
    "# obtain the trainng data set\n",
    "X_train = df_train.drop('Survived', axis = 1)\n",
    "y_train = df_train['Survived']\n",
    "\n",
    "# Training the data\n",
    "#logreg = LogisticRegression()\n",
    "#logreg.fit(X_train, y_train)"
   ]
  },
  {
   "cell_type": "code",
   "execution_count": 7,
   "metadata": {},
   "outputs": [
    {
     "data": {
      "text/plain": [
       "PassengerId      0\n",
       "Pclass           0\n",
       "Name             0\n",
       "Sex              0\n",
       "Age             86\n",
       "SibSp            0\n",
       "Parch            0\n",
       "Ticket           0\n",
       "Fare             1\n",
       "Cabin          327\n",
       "Embarked         0\n",
       "dtype: int64"
      ]
     },
     "execution_count": 7,
     "metadata": {},
     "output_type": "execute_result"
    }
   ],
   "source": [
    "### featuring the test data set in the same way\n",
    "df_test = pd.read_csv('test.csv')\n",
    "df_test.isnull().sum()"
   ]
  },
  {
   "cell_type": "code",
   "execution_count": 8,
   "metadata": {},
   "outputs": [
    {
     "data": {
      "text/html": [
       "<div>\n",
       "<table border=\"1\" class=\"dataframe\">\n",
       "  <thead>\n",
       "    <tr style=\"text-align: right;\">\n",
       "      <th>Title</th>\n",
       "      <th>Col</th>\n",
       "      <th>Dona</th>\n",
       "      <th>Dr</th>\n",
       "      <th>Master</th>\n",
       "      <th>Miss</th>\n",
       "      <th>Mr</th>\n",
       "      <th>Mrs</th>\n",
       "      <th>Ms</th>\n",
       "      <th>Rev</th>\n",
       "    </tr>\n",
       "    <tr>\n",
       "      <th>Sex</th>\n",
       "      <th></th>\n",
       "      <th></th>\n",
       "      <th></th>\n",
       "      <th></th>\n",
       "      <th></th>\n",
       "      <th></th>\n",
       "      <th></th>\n",
       "      <th></th>\n",
       "      <th></th>\n",
       "    </tr>\n",
       "  </thead>\n",
       "  <tbody>\n",
       "    <tr>\n",
       "      <th>female</th>\n",
       "      <td>0</td>\n",
       "      <td>1</td>\n",
       "      <td>0</td>\n",
       "      <td>0</td>\n",
       "      <td>78</td>\n",
       "      <td>0</td>\n",
       "      <td>72</td>\n",
       "      <td>1</td>\n",
       "      <td>0</td>\n",
       "    </tr>\n",
       "    <tr>\n",
       "      <th>male</th>\n",
       "      <td>2</td>\n",
       "      <td>0</td>\n",
       "      <td>1</td>\n",
       "      <td>21</td>\n",
       "      <td>0</td>\n",
       "      <td>240</td>\n",
       "      <td>0</td>\n",
       "      <td>0</td>\n",
       "      <td>2</td>\n",
       "    </tr>\n",
       "  </tbody>\n",
       "</table>\n",
       "</div>"
      ],
      "text/plain": [
       "Title   Col  Dona  Dr  Master  Miss   Mr  Mrs  Ms  Rev\n",
       "Sex                                                   \n",
       "female    0     1   0       0    78    0   72   1    0\n",
       "male      2     0   1      21     0  240    0   0    2"
      ]
     },
     "execution_count": 8,
     "metadata": {},
     "output_type": "execute_result"
    }
   ],
   "source": [
    "df_test = df_test.drop(['PassengerId', 'Ticket', 'Cabin'], axis = 1)\n",
    "\n",
    "# get the title information\n",
    "df_test['Title'] = df_test['Name'].str.extract(' ([A-Za-z]+)\\.', expand=False)\n",
    "pd.crosstab(df_test['Sex'], df_test['Title'])"
   ]
  },
  {
   "cell_type": "code",
   "execution_count": 9,
   "metadata": {
    "collapsed": true
   },
   "outputs": [],
   "source": [
    "df_test['Title'] = df_test['Title'].replace(['Col','Dona','Dr','Rev'], 'Rare')\n",
    "df_test['Title'] = df_test['Title'].replace('Ms', 'Miss')\n",
    "\n",
    "#guess_median_t = df_test[['Sex', 'Pclass', 'Age']].groupby(['Sex','Pclass']).median()\n",
    "#guess_values_t = guess_median_t['Age'].values.tolist()\n",
    "\n",
    "#encoding the sex information\n",
    "df_test['Sex'] = df_test['Sex'].map({'female':1, 'male':0})\n",
    "\n",
    "#replace the missing age values with guess values\n",
    "\n",
    "for sex in range(0,2) :\n",
    "    for pclass in range(1,4):\n",
    "        df_test.loc[(df_test['Sex'] == sex) & (df_test['Pclass'] == pclass)\\\n",
    "                     & (df_test['Age'].isnull()), 'Age'] = guess_values[pclass*(sex+1)-1]  # training data guessing values\n",
    "\n",
    "# Replacing the missing value for test data\n",
    "fare_md = df_test['Fare'].describe()[5]\n",
    "df_test.loc[df_test['Fare'].isnull(),'Fare'] = fare_md\n",
    "\n",
    "# Encoding the test features\n",
    "df_test = pd.get_dummies(df_test, columns = ['Pclass', 'Embarked', 'Title'])\n",
    "df_test['Age'] = prep.scale(df_test['Age'])\n",
    "df_test['Fare'] = prep.scale(df_test['Fare'])\n",
    "df_test = df_test.drop('Name', axis = 1)\n",
    "\n",
    "# Predict the test data\n",
    "#y_test = logreg.predict(df_test)"
   ]
  },
  {
   "cell_type": "markdown",
   "metadata": {},
   "source": [
    "### ML Model Selecting "
   ]
  },
  {
   "cell_type": "code",
   "execution_count": 10,
   "metadata": {
    "collapsed": true
   },
   "outputs": [],
   "source": [
    "# Making the train data(80%) and cross validation data (20%) based on the whole train data\n",
    "# considering the whole data is list in random information, I will directly take the first 80% data \n",
    "\n",
    "train_index = int(round(0.8 * X_train.shape[0]))\n",
    "\n",
    "X_train_08 = X_train.iloc[0:train_index, :]\n",
    "y_train_08 = y_train[0:train_index]\n",
    "\n",
    "X_cv = X_train.iloc[train_index::,:]\n",
    "y_cv = y_train[train_index::]"
   ]
  },
  {
   "cell_type": "code",
   "execution_count": 11,
   "metadata": {},
   "outputs": [
    {
     "name": "stdout",
     "output_type": "stream",
     "text": [
      "The accuracy of Logreg is: 0.88202247191\n",
      "\n",
      "The accuracy of SVC is: 0.898876404494\n",
      "\n",
      "The accuracy of Linear_svc is: 0.88202247191\n",
      "\n",
      "The accuracy of Decision Tree is: 0.747191011236\n",
      "\n"
     ]
    }
   ],
   "source": [
    "# Training the data with Logreg\n",
    "logreg = LogisticRegression()\n",
    "logreg.fit(X_train_08, y_train_08)\n",
    "y_logreg_p = logreg.predict(X_cv)\n",
    "score_logreg = accuracy_score(y_cv, y_logreg_p)\n",
    "print('The accuracy of Logreg is: {}\\n'.format(score_logreg))\n",
    "\n",
    "# Training the data with SVC\n",
    "svc = SVC(C=10)\n",
    "svc.fit(X_train_08, y_train_08)\n",
    "y_svc_p = svc.predict(X_cv)\n",
    "score_svc = accuracy_score(y_cv, y_svc_p)\n",
    "print('The accuracy of SVC is: {}\\n'.format(score_svc))\n",
    "\n",
    "# Training the data with linear_SVC\n",
    "linear_svc = LinearSVC()\n",
    "linear_svc.fit(X_train_08, y_train_08)\n",
    "y_lsvc_p = linear_svc.predict(X_cv)\n",
    "score_lsvc = accuracy_score(y_cv, y_lsvc_p)\n",
    "print('The accuracy of Linear_svc is: {}\\n'.format(score_lsvc))\n",
    "\n",
    "# Training the data with DecisionTree\n",
    "dtree = DecisionTreeClassifier()\n",
    "dtree.fit(X_train_08, y_train_08)\n",
    "y_dt_p = dtree.predict(X_cv)\n",
    "score_dtree = accuracy_score(y_cv, y_dt_p)\n",
    "print('The accuracy of Decision Tree is: {}\\n'.format(score_dtree))"
   ]
  },
  {
   "cell_type": "code",
   "execution_count": 12,
   "metadata": {
    "collapsed": true
   },
   "outputs": [],
   "source": [
    "# choosing the SVC model and train with whole data\n",
    "svc = SVC(C=10)\n",
    "svc.fit(X_train, y_train)\n",
    "test_predict = svc.predict(df_test)\n",
    "\n",
    "# output the resultes as csv file for submition online\n",
    "sub_test = pd.read_csv('test.csv')\n",
    "sub_test['Survived'] = test_predict\n",
    "ans = sub_test.loc[:,['PassengerId', 'Survived']]\n",
    "\n",
    "# please remove the '#' if you need to output the file in your computer\n",
    "#ans.to_csv('titanic_submission.csv', index = False)\n",
    "\n",
    "# linear_svc model had my best score in this Kaggle competition"
   ]
  },
  {
   "cell_type": "markdown",
   "metadata": {},
   "source": [
    "## Reference \n",
    "\n",
    "1. [Titanic Data Science Solutions](https://www.kaggle.com/startupsci/titanic-data-science-solutions)\n",
    "2. [achine Learning from Start to Finish with Scikit-Learn](https://www.kaggle.com/jeffd23/scikit-learn-ml-from-start-to-finish)"
   ]
  }
 ],
 "metadata": {
  "kernelspec": {
   "display_name": "Python [conda env:DAND]",
   "language": "python",
   "name": "conda-env-DAND-py"
  },
  "language_info": {
   "codemirror_mode": {
    "name": "ipython",
    "version": 2
   },
   "file_extension": ".py",
   "mimetype": "text/x-python",
   "name": "python",
   "nbconvert_exporter": "python",
   "pygments_lexer": "ipython2",
   "version": "2.7.12"
  }
 },
 "nbformat": 4,
 "nbformat_minor": 2
}
