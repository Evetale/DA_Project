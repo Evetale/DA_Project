{
 "cells": [
  {
   "cell_type": "markdown",
   "metadata": {},
   "source": [
    "# Survival Analysis on Titanic Disaster\n",
    "\n",
    "An analysis regarding following questions:\n",
    "1. Did female and children have significant higher survival rates?\n",
    "2. Were people with families more likely to survive than the ones were alone on the ship? \n",
    "3. Were the richer people (depending on the fare paid and their Pclass level) more likely to survive ?\n",
    "\n",
    "The original data is downloaded from [Titanic from Kaggle](https://www.kaggle.com/c/titanic/data)"
   ]
  },
  {
   "cell_type": "code",
   "execution_count": 1,
   "metadata": {
    "collapsed": true
   },
   "outputs": [],
   "source": [
    "import numpy as np\n",
    "import pandas as pd\n",
    "import matplotlib.pyplot as plt\n",
    "import seaborn as sns\n",
    "%matplotlib inline"
   ]
  },
  {
   "cell_type": "code",
   "execution_count": 2,
   "metadata": {},
   "outputs": [
    {
     "data": {
      "text/html": [
       "<div>\n",
       "<table border=\"1\" class=\"dataframe\">\n",
       "  <thead>\n",
       "    <tr style=\"text-align: right;\">\n",
       "      <th></th>\n",
       "      <th>PassengerId</th>\n",
       "      <th>Survived</th>\n",
       "      <th>Pclass</th>\n",
       "      <th>Name</th>\n",
       "      <th>Sex</th>\n",
       "      <th>Age</th>\n",
       "      <th>SibSp</th>\n",
       "      <th>Parch</th>\n",
       "      <th>Ticket</th>\n",
       "      <th>Fare</th>\n",
       "      <th>Cabin</th>\n",
       "      <th>Embarked</th>\n",
       "    </tr>\n",
       "  </thead>\n",
       "  <tbody>\n",
       "    <tr>\n",
       "      <th>0</th>\n",
       "      <td>1</td>\n",
       "      <td>0</td>\n",
       "      <td>3</td>\n",
       "      <td>Braund, Mr. Owen Harris</td>\n",
       "      <td>male</td>\n",
       "      <td>22.0</td>\n",
       "      <td>1</td>\n",
       "      <td>0</td>\n",
       "      <td>A/5 21171</td>\n",
       "      <td>7.2500</td>\n",
       "      <td>NaN</td>\n",
       "      <td>S</td>\n",
       "    </tr>\n",
       "    <tr>\n",
       "      <th>1</th>\n",
       "      <td>2</td>\n",
       "      <td>1</td>\n",
       "      <td>1</td>\n",
       "      <td>Cumings, Mrs. John Bradley (Florence Briggs Th...</td>\n",
       "      <td>female</td>\n",
       "      <td>38.0</td>\n",
       "      <td>1</td>\n",
       "      <td>0</td>\n",
       "      <td>PC 17599</td>\n",
       "      <td>71.2833</td>\n",
       "      <td>C85</td>\n",
       "      <td>C</td>\n",
       "    </tr>\n",
       "    <tr>\n",
       "      <th>2</th>\n",
       "      <td>3</td>\n",
       "      <td>1</td>\n",
       "      <td>3</td>\n",
       "      <td>Heikkinen, Miss. Laina</td>\n",
       "      <td>female</td>\n",
       "      <td>26.0</td>\n",
       "      <td>0</td>\n",
       "      <td>0</td>\n",
       "      <td>STON/O2. 3101282</td>\n",
       "      <td>7.9250</td>\n",
       "      <td>NaN</td>\n",
       "      <td>S</td>\n",
       "    </tr>\n",
       "  </tbody>\n",
       "</table>\n",
       "</div>"
      ],
      "text/plain": [
       "   PassengerId  Survived  Pclass  \\\n",
       "0            1         0       3   \n",
       "1            2         1       1   \n",
       "2            3         1       3   \n",
       "\n",
       "                                                Name     Sex   Age  SibSp  \\\n",
       "0                            Braund, Mr. Owen Harris    male  22.0      1   \n",
       "1  Cumings, Mrs. John Bradley (Florence Briggs Th...  female  38.0      1   \n",
       "2                             Heikkinen, Miss. Laina  female  26.0      0   \n",
       "\n",
       "   Parch            Ticket     Fare Cabin Embarked  \n",
       "0      0         A/5 21171   7.2500   NaN        S  \n",
       "1      0          PC 17599  71.2833   C85        C  \n",
       "2      0  STON/O2. 3101282   7.9250   NaN        S  "
      ]
     },
     "execution_count": 2,
     "metadata": {},
     "output_type": "execute_result"
    }
   ],
   "source": [
    "df = pd.read_csv('titanic-data.csv')\n",
    "df.head(3)"
   ]
  },
  {
   "cell_type": "markdown",
   "metadata": {},
   "source": [
    "## ------Cleaning the data\n",
    "\n",
    "1. Remove duplicate rows \n",
    "2. Handle all missing values\n",
    "3. Group the numerical data(age, fare) as needed"
   ]
  },
  {
   "cell_type": "code",
   "execution_count": 3,
   "metadata": {},
   "outputs": [
    {
     "name": "stdout",
     "output_type": "stream",
     "text": [
      "The data set's size is:(891, 12)\n",
      "After droping duplicates, the data set has changed to: (891, 12)\n"
     ]
    }
   ],
   "source": [
    "# checking duplicate rows\n",
    "print(\"The data set's size is:{}\".format(df.shape))\n",
    "print(\"After droping duplicates, the data set has changed to: {}\".format(df.drop_duplicates().shape))"
   ]
  },
  {
   "cell_type": "code",
   "execution_count": 4,
   "metadata": {},
   "outputs": [
    {
     "data": {
      "text/plain": [
       "PassengerId      0\n",
       "Survived         0\n",
       "Pclass           0\n",
       "Name             0\n",
       "Sex              0\n",
       "Age            177\n",
       "SibSp            0\n",
       "Parch            0\n",
       "Ticket           0\n",
       "Fare             0\n",
       "Cabin          687\n",
       "Embarked         2\n",
       "dtype: int64"
      ]
     },
     "execution_count": 4,
     "metadata": {},
     "output_type": "execute_result"
    }
   ],
   "source": [
    "# No duplicates found so check the missing values per column (True = 1, False = 0)\n",
    "df.isnull().sum()"
   ]
  },
  {
   "cell_type": "code",
   "execution_count": 5,
   "metadata": {},
   "outputs": [
    {
     "data": {
      "text/html": [
       "<div>\n",
       "<table border=\"1\" class=\"dataframe\">\n",
       "  <thead>\n",
       "    <tr style=\"text-align: right;\">\n",
       "      <th></th>\n",
       "      <th>Survived</th>\n",
       "    </tr>\n",
       "    <tr>\n",
       "      <th>Embarked</th>\n",
       "      <th></th>\n",
       "    </tr>\n",
       "  </thead>\n",
       "  <tbody>\n",
       "    <tr>\n",
       "      <th>C</th>\n",
       "      <td>168</td>\n",
       "    </tr>\n",
       "    <tr>\n",
       "      <th>Q</th>\n",
       "      <td>77</td>\n",
       "    </tr>\n",
       "    <tr>\n",
       "      <th>S</th>\n",
       "      <td>644</td>\n",
       "    </tr>\n",
       "  </tbody>\n",
       "</table>\n",
       "</div>"
      ],
      "text/plain": [
       "          Survived\n",
       "Embarked          \n",
       "C              168\n",
       "Q               77\n",
       "S              644"
      ]
     },
     "execution_count": 5,
     "metadata": {},
     "output_type": "execute_result"
    }
   ],
   "source": [
    "#checking the distribution of Embarked data \n",
    "df.groupby('Embarked').count()[['Survived']]"
   ]
  },
  {
   "cell_type": "markdown",
   "metadata": {},
   "source": [
    "According to above information, there are _177_ missing values in the 'Age' column, _687_ missing values in the 'Cabin' column and _2_ missing values in the 'Embarked' column.\n",
    "\n",
    "Below are how I deal with them:\n",
    "\n",
    "1. For 'Age' data, I will assue the missing values are distributed similarly as the available data so __mean__ value will be a good approach for 'Nan'.\n",
    "\n",
    "2. For 'Cabin' data, considering most of data (77.1% of total) is missing and it is really hard to estimate them without big bias. Plus the Pclass column could provide similar information--- the cabin location (represented by level 1 to 3) for our later analysis. I think it's reasonable to drop the whole 'Cabin' column here.\n",
    "\n",
    "3. For 'Embarked' data, 'S' seemed to be a good estimate for the two missing values based on the what we knew."
   ]
  },
  {
   "cell_type": "code",
   "execution_count": 6,
   "metadata": {},
   "outputs": [
    {
     "data": {
      "text/plain": [
       "count    714.000000\n",
       "mean      29.699118\n",
       "std       14.526497\n",
       "min        0.420000\n",
       "25%       20.125000\n",
       "50%       28.000000\n",
       "75%       38.000000\n",
       "max       80.000000\n",
       "Name: Age, dtype: float64"
      ]
     },
     "execution_count": 6,
     "metadata": {},
     "output_type": "execute_result"
    }
   ],
   "source": [
    "# obtain the statistics of known age data\n",
    "df_age_known = df[df['Age'].notnull()]\n",
    "df_age_known['Age'].describe()"
   ]
  },
  {
   "cell_type": "code",
   "execution_count": 7,
   "metadata": {
    "collapsed": true
   },
   "outputs": [],
   "source": [
    "# replace the missing values with assumptions and store them in new dfs\n",
    "df_age_nonull = df[['Age']].fillna(30)\n",
    "df_embarked_nonull = df[['Embarked']].fillna('S')\n",
    "\n",
    "# drop the columns with missing values \n",
    "df_temp = df.drop(['Age', 'Cabin', 'Embarked'], axis = 1)\n",
    "df_no_null = pd.concat([df_temp, df_age_nonull, df_embarked_nonull], axis = 1)"
   ]
  },
  {
   "cell_type": "code",
   "execution_count": 8,
   "metadata": {},
   "outputs": [
    {
     "data": {
      "text/plain": [
       "count    891.000000\n",
       "mean      32.204208\n",
       "std       49.693429\n",
       "min        0.000000\n",
       "25%        7.910400\n",
       "50%       14.454200\n",
       "75%       31.000000\n",
       "max      512.329200\n",
       "Name: Fare, dtype: float64"
      ]
     },
     "execution_count": 8,
     "metadata": {},
     "output_type": "execute_result"
    }
   ],
   "source": [
    "# checking the 'Fare' column data statistics \n",
    "df['Fare'].describe()"
   ]
  },
  {
   "cell_type": "code",
   "execution_count": 9,
   "metadata": {},
   "outputs": [
    {
     "data": {
      "text/html": [
       "<div>\n",
       "<table border=\"1\" class=\"dataframe\">\n",
       "  <thead>\n",
       "    <tr style=\"text-align: right;\">\n",
       "      <th></th>\n",
       "      <th>Survived</th>\n",
       "      <th>Pclass</th>\n",
       "      <th>Sex</th>\n",
       "      <th>SibSp</th>\n",
       "      <th>Parch</th>\n",
       "      <th>Embarked</th>\n",
       "      <th>Age Group</th>\n",
       "      <th>Fare Group</th>\n",
       "    </tr>\n",
       "  </thead>\n",
       "  <tbody>\n",
       "    <tr>\n",
       "      <th>0</th>\n",
       "      <td>0</td>\n",
       "      <td>3</td>\n",
       "      <td>male</td>\n",
       "      <td>1</td>\n",
       "      <td>0</td>\n",
       "      <td>S</td>\n",
       "      <td>Adults</td>\n",
       "      <td>0 to 8</td>\n",
       "    </tr>\n",
       "    <tr>\n",
       "      <th>1</th>\n",
       "      <td>1</td>\n",
       "      <td>1</td>\n",
       "      <td>female</td>\n",
       "      <td>1</td>\n",
       "      <td>0</td>\n",
       "      <td>C</td>\n",
       "      <td>Adults</td>\n",
       "      <td>over 31</td>\n",
       "    </tr>\n",
       "    <tr>\n",
       "      <th>2</th>\n",
       "      <td>1</td>\n",
       "      <td>3</td>\n",
       "      <td>female</td>\n",
       "      <td>0</td>\n",
       "      <td>0</td>\n",
       "      <td>S</td>\n",
       "      <td>Adults</td>\n",
       "      <td>0 to 8</td>\n",
       "    </tr>\n",
       "  </tbody>\n",
       "</table>\n",
       "</div>"
      ],
      "text/plain": [
       "   Survived  Pclass     Sex  SibSp  Parch Embarked Age Group Fare Group\n",
       "0         0       3    male      1      0        S    Adults     0 to 8\n",
       "1         1       1  female      1      0        C    Adults    over 31\n",
       "2         1       3  female      0      0        S    Adults     0 to 8"
      ]
     },
     "execution_count": 9,
     "metadata": {},
     "output_type": "execute_result"
    }
   ],
   "source": [
    "# Group age information\n",
    "df_age_series = pd.cut(df_no_null['Age'], bins = [0, 12, 19, 60, 80], labels = ['Children', 'Teenager', 'Adults', 'Seniors'])\n",
    "df_age_series.rename('Age Group', inplace = True)\n",
    "df_tmp_age = pd.concat([df_no_null, df_age_series], axis = 1)\n",
    "\n",
    "# Group fare information\n",
    "df_fare_series = pd.cut(df_no_null['Fare'], bins = [0, 8, 15, 31, 513], labels = ['0 to 8', '08 to 15', '15 to 31', 'over 31'])\n",
    "df_fare_series.rename('Fare Group', inplace = True)\n",
    "df_tmp_age_fare = pd.concat([df_tmp_age, df_fare_series], axis = 1)\n",
    "\n",
    "# Select the data we need\n",
    "df_select = df_tmp_age_fare.drop(['PassengerId', 'Name', 'Ticket', 'Age', 'Fare'], axis = 1)\n",
    "df_select.head(3)"
   ]
  },
  {
   "cell_type": "markdown",
   "metadata": {},
   "source": [
    "## ------ Explore the data \n",
    "\n",
    "To check the correlation between specified factor and survival status, I need to separate original data to 2 groups(survived and dead) firstly and then count each population based on different factor conditions."
   ]
  },
  {
   "cell_type": "code",
   "execution_count": 10,
   "metadata": {},
   "outputs": [
    {
     "name": "stdout",
     "output_type": "stream",
     "text": [
      "\n",
      "Based on data, 342 passengers survived this disaster and 549 people were dead unfortunately.\n"
     ]
    },
    {
     "data": {
      "text/plain": [
       "array([<matplotlib.axes._subplots.AxesSubplot object at 0x000000000964DDA0>], dtype=object)"
      ]
     },
     "execution_count": 10,
     "metadata": {},
     "output_type": "execute_result"
    },
    {
     "data": {
      "image/png": "[encoded data removed]",
      "text/plain": [
       "<matplotlib.figure.Figure at 0x95cc2e8>"
      ]
     },
     "metadata": {},
     "output_type": "display_data"
    }
   ],
   "source": [
    "# Divide the information to survived group and dead group\n",
    "df_survived = df_select [df_select['Survived'] == 1]\n",
    "df_dead = df_select[df_select['Survived'] == 0]\n",
    "\n",
    "print('\\nBased on data, {} passengers survived this disaster and {} people were dead unfortunately.'\n",
    "      .format(df_survived.shape[0], df_dead.shape[0]))\n",
    "\n",
    "# draw the pie chart for \"Survived vs Dead\"\n",
    "df_pie = pd.DataFrame([df_survived.shape[0], df_dead.shape[0]], index = ['Survived', 'Dead'], columns = ['Status'])\n",
    "df_pie.plot(kind = 'pie', autopct = '%.2f%%', figsize = (3, 3), subplots = True, explode = (0.02,0.02),\n",
    "            legend = False, title = 'Fig_1  Survived vs Dead')"
   ]
  },
  {
   "cell_type": "code",
   "execution_count": 11,
   "metadata": {
    "collapsed": true
   },
   "outputs": [],
   "source": [
    "# build a helper function to get groupby table\n",
    "def group_table(by, df_survived = df_survived, df_dead = df_dead, rate = True, num = False):\n",
    "    '''Generate a new dataframe based on Survived and Dead information and grouped as required\n",
    "    \n",
    "    by: str of a list of str used to groupby\n",
    "    df_survived: survived data set, dataframe\n",
    "    df_dead: dead data set, dataframe\n",
    "    rate: choosing if adding rate column, boolean\n",
    "    num: choosing if the rate column showing float number or percent by string, boolean\n",
    "    output: dataframe'''\n",
    "    \n",
    "    survived_groupby = df_survived.groupby(by).count()\n",
    "    dead_groupby = df_dead.groupby(by).count()\n",
    "        \n",
    "    #rename dead df column name\n",
    "    dead_groupby.rename(columns = {'Survived': 'Dead'}, inplace = True)\n",
    "\n",
    "    # merge data\n",
    "    merged_df = pd.concat([survived_groupby[['Survived']], dead_groupby[['Dead']]], axis = 1)\n",
    "    \n",
    "    # Dealing with Nan data after merge\n",
    "    merged_df_nonull = merged_df.fillna(0)\n",
    "    \n",
    "    if rate:\n",
    "        # Adding the survival rate column\n",
    "        merged_df_rate = survived_rate(merged_df_nonull, num = num)\n",
    "        return merged_df_rate\n",
    "    else:\n",
    "        return merged_df_nonull\n",
    "    \n",
    "#  Build a function to calculate survival rate\n",
    "def survived_rate(grouped_df, num = False):\n",
    "    '''Caculate the survived rate and add that information into grouped dataframe\n",
    "    \n",
    "    grouped_df: dataframe\n",
    "    num: choosing if the rate column showing float number or percent by string, boolean\n",
    "    output: dataframe'''\n",
    "    \n",
    "    def rate_calculator(pd_series):\n",
    "        ''' A helper funciotn to calucate the survived rate\n",
    "        \n",
    "        pd_series: a series with survvied and dead people number \n",
    "        output: a percent number in str'''\n",
    "        \n",
    "        rate = float(pd_series[0])/pd_series.sum() * 100\n",
    "        rate_str = '{:0.2f}%'.format(rate)\n",
    "        \n",
    "        return rate_str\n",
    "    \n",
    "    def rate_calculator_num(pd_series):\n",
    "        ''' A helper function to calucate the survived rate\n",
    "        \n",
    "        pd_series: a series with survived and dead people number\n",
    "        output: a float number'''\n",
    "        \n",
    "        rate = float(pd_series[0]) / pd_series.sum()\n",
    "        return rate.round(2)\n",
    "    \n",
    "    if not num:\n",
    "        # calculate all the rates \n",
    "        rate_column = grouped_df.apply(rate_calculator, axis = 1)\n",
    "    else:\n",
    "        rate_column = grouped_df.apply(rate_calculator_num, axis = 1)\n",
    "        \n",
    "    rate_column.rename('Survival Rate', inplace = True)\n",
    "    \n",
    "    merged_df = pd.concat([grouped_df, rate_column], axis = 1)\n",
    "    \n",
    "    return merged_df"
   ]
  },
  {
   "cell_type": "code",
   "execution_count": 12,
   "metadata": {},
   "outputs": [
    {
     "data": {
      "text/html": [
       "<div>\n",
       "<table border=\"1\" class=\"dataframe\">\n",
       "  <thead>\n",
       "    <tr style=\"text-align: right;\">\n",
       "      <th></th>\n",
       "      <th>Survived</th>\n",
       "      <th>Dead</th>\n",
       "      <th>Survival Rate</th>\n",
       "    </tr>\n",
       "    <tr>\n",
       "      <th>Sex</th>\n",
       "      <th></th>\n",
       "      <th></th>\n",
       "      <th></th>\n",
       "    </tr>\n",
       "  </thead>\n",
       "  <tbody>\n",
       "    <tr>\n",
       "      <th>female</th>\n",
       "      <td>233</td>\n",
       "      <td>81</td>\n",
       "      <td>74.20%</td>\n",
       "    </tr>\n",
       "    <tr>\n",
       "      <th>male</th>\n",
       "      <td>109</td>\n",
       "      <td>468</td>\n",
       "      <td>18.89%</td>\n",
       "    </tr>\n",
       "  </tbody>\n",
       "</table>\n",
       "</div>"
      ],
      "text/plain": [
       "        Survived  Dead Survival Rate\n",
       "Sex                                 \n",
       "female       233    81        74.20%\n",
       "male         109   468        18.89%"
      ]
     },
     "execution_count": 12,
     "metadata": {},
     "output_type": "execute_result"
    }
   ],
   "source": [
    "group_table('Sex')"
   ]
  },
  {
   "cell_type": "code",
   "execution_count": 13,
   "metadata": {},
   "outputs": [
    {
     "data": {
      "text/plain": [
       "array([<matplotlib.axes._subplots.AxesSubplot object at 0x00000000046C5E48>,\n",
       "       <matplotlib.axes._subplots.AxesSubplot object at 0x000000000B742D68>], dtype=object)"
      ]
     },
     "execution_count": 13,
     "metadata": {},
     "output_type": "execute_result"
    },
    {
     "data": {
      "image/png": "[encoded data removed]",
      "text/plain": [
       "<matplotlib.figure.Figure at 0x96c6240>"
      ]
     },
     "metadata": {},
     "output_type": "display_data"
    }
   ],
   "source": [
    "# Generate the data to draw a pie chart to compare\n",
    "df_sex_pie = group_table('Sex')[['Survived', 'Dead']].transpose()\n",
    "\n",
    "df_sex_pie.plot(kind = 'pie', explode = (0.03, 0.03), autopct = '%.2f%%', figsize = (6, 3), subplots = True,\n",
    "                 legend = False, title = 'Fig_2  Survived vs Dead by Sex')"
   ]
  },
  {
   "cell_type": "code",
   "execution_count": 14,
   "metadata": {
    "scrolled": true
   },
   "outputs": [
    {
     "data": {
      "text/html": [
       "<div>\n",
       "<table border=\"1\" class=\"dataframe\">\n",
       "  <thead>\n",
       "    <tr style=\"text-align: right;\">\n",
       "      <th></th>\n",
       "      <th>Survived</th>\n",
       "      <th>Dead</th>\n",
       "      <th>Survival Rate</th>\n",
       "    </tr>\n",
       "    <tr>\n",
       "      <th>Age Group</th>\n",
       "      <th></th>\n",
       "      <th></th>\n",
       "      <th></th>\n",
       "    </tr>\n",
       "  </thead>\n",
       "  <tbody>\n",
       "    <tr>\n",
       "      <th>Children</th>\n",
       "      <td>40</td>\n",
       "      <td>29</td>\n",
       "      <td>57.97%</td>\n",
       "    </tr>\n",
       "    <tr>\n",
       "      <th>Teenager</th>\n",
       "      <td>39</td>\n",
       "      <td>56</td>\n",
       "      <td>41.05%</td>\n",
       "    </tr>\n",
       "    <tr>\n",
       "      <th>Adults</th>\n",
       "      <td>258</td>\n",
       "      <td>447</td>\n",
       "      <td>36.60%</td>\n",
       "    </tr>\n",
       "    <tr>\n",
       "      <th>Seniors</th>\n",
       "      <td>5</td>\n",
       "      <td>17</td>\n",
       "      <td>22.73%</td>\n",
       "    </tr>\n",
       "  </tbody>\n",
       "</table>\n",
       "</div>"
      ],
      "text/plain": [
       "           Survived  Dead Survival Rate\n",
       "Age Group                              \n",
       "Children         40    29        57.97%\n",
       "Teenager         39    56        41.05%\n",
       "Adults          258   447        36.60%\n",
       "Seniors           5    17        22.73%"
      ]
     },
     "execution_count": 14,
     "metadata": {},
     "output_type": "execute_result"
    }
   ],
   "source": [
    "group_table('Age Group')"
   ]
  },
  {
   "cell_type": "code",
   "execution_count": 15,
   "metadata": {},
   "outputs": [
    {
     "data": {
      "text/plain": [
       "<matplotlib.axes._subplots.AxesSubplot at 0xb99a4a8>"
      ]
     },
     "execution_count": 15,
     "metadata": {},
     "output_type": "execute_result"
    },
    {
     "data": {
      "image/png": "[encoded data removed]",
      "text/plain": [
       "<matplotlib.figure.Figure at 0xb87e2e8>"
      ]
     },
     "metadata": {},
     "output_type": "display_data"
    }
   ],
   "source": [
    "df_age_bar = group_table('Age Group')[['Survived', 'Dead']]\n",
    "df_age_bar.plot(kind = 'barh', stacked = True, figsize = (8, 4), title = 'Fig_3  Survived vs Dead by Age Group')"
   ]
  },
  {
   "cell_type": "markdown",
   "metadata": {},
   "source": [
    "### Answer to Q -1 : Did female and children have sigificant higher survival rates?\n",
    "\n",
    "Well, according to Fig_2 and Fig_3, it is easily to find that __women indeed had a much higher survival rate__ (74% compared to man's poor 19%) and __children also enjoyed an obvious high rate__ as we expected. What's more, it seemed that senior group had the lowest survival rate."
   ]
  },
  {
   "cell_type": "code",
   "execution_count": 16,
   "metadata": {},
   "outputs": [
    {
     "data": {
      "text/html": [
       "<div>\n",
       "<table border=\"1\" class=\"dataframe\">\n",
       "  <thead>\n",
       "    <tr style=\"text-align: right;\">\n",
       "      <th></th>\n",
       "      <th>Survived</th>\n",
       "      <th>Dead</th>\n",
       "      <th>Survival Rate</th>\n",
       "    </tr>\n",
       "    <tr>\n",
       "      <th>SibSp</th>\n",
       "      <th></th>\n",
       "      <th></th>\n",
       "      <th></th>\n",
       "    </tr>\n",
       "  </thead>\n",
       "  <tbody>\n",
       "    <tr>\n",
       "      <th>0</th>\n",
       "      <td>210.0</td>\n",
       "      <td>398</td>\n",
       "      <td>34.54%</td>\n",
       "    </tr>\n",
       "    <tr>\n",
       "      <th>1</th>\n",
       "      <td>112.0</td>\n",
       "      <td>97</td>\n",
       "      <td>53.59%</td>\n",
       "    </tr>\n",
       "    <tr>\n",
       "      <th>2</th>\n",
       "      <td>13.0</td>\n",
       "      <td>15</td>\n",
       "      <td>46.43%</td>\n",
       "    </tr>\n",
       "    <tr>\n",
       "      <th>3</th>\n",
       "      <td>4.0</td>\n",
       "      <td>12</td>\n",
       "      <td>25.00%</td>\n",
       "    </tr>\n",
       "    <tr>\n",
       "      <th>4</th>\n",
       "      <td>3.0</td>\n",
       "      <td>15</td>\n",
       "      <td>16.67%</td>\n",
       "    </tr>\n",
       "    <tr>\n",
       "      <th>5</th>\n",
       "      <td>0.0</td>\n",
       "      <td>5</td>\n",
       "      <td>0.00%</td>\n",
       "    </tr>\n",
       "    <tr>\n",
       "      <th>8</th>\n",
       "      <td>0.0</td>\n",
       "      <td>7</td>\n",
       "      <td>0.00%</td>\n",
       "    </tr>\n",
       "  </tbody>\n",
       "</table>\n",
       "</div>"
      ],
      "text/plain": [
       "       Survived  Dead Survival Rate\n",
       "SibSp                              \n",
       "0         210.0   398        34.54%\n",
       "1         112.0    97        53.59%\n",
       "2          13.0    15        46.43%\n",
       "3           4.0    12        25.00%\n",
       "4           3.0    15        16.67%\n",
       "5           0.0     5         0.00%\n",
       "8           0.0     7         0.00%"
      ]
     },
     "execution_count": 16,
     "metadata": {},
     "output_type": "execute_result"
    }
   ],
   "source": [
    "#Considering the factor of sibling and spouse\n",
    "group_table('SibSp')"
   ]
  },
  {
   "cell_type": "code",
   "execution_count": 17,
   "metadata": {},
   "outputs": [
    {
     "data": {
      "text/html": [
       "<div>\n",
       "<table border=\"1\" class=\"dataframe\">\n",
       "  <thead>\n",
       "    <tr style=\"text-align: right;\">\n",
       "      <th></th>\n",
       "      <th>Survived</th>\n",
       "      <th>Dead</th>\n",
       "      <th>Survival Rate</th>\n",
       "    </tr>\n",
       "    <tr>\n",
       "      <th>Parch</th>\n",
       "      <th></th>\n",
       "      <th></th>\n",
       "      <th></th>\n",
       "    </tr>\n",
       "  </thead>\n",
       "  <tbody>\n",
       "    <tr>\n",
       "      <th>0</th>\n",
       "      <td>233.0</td>\n",
       "      <td>445</td>\n",
       "      <td>34.37%</td>\n",
       "    </tr>\n",
       "    <tr>\n",
       "      <th>1</th>\n",
       "      <td>65.0</td>\n",
       "      <td>53</td>\n",
       "      <td>55.08%</td>\n",
       "    </tr>\n",
       "    <tr>\n",
       "      <th>2</th>\n",
       "      <td>40.0</td>\n",
       "      <td>40</td>\n",
       "      <td>50.00%</td>\n",
       "    </tr>\n",
       "    <tr>\n",
       "      <th>3</th>\n",
       "      <td>3.0</td>\n",
       "      <td>2</td>\n",
       "      <td>60.00%</td>\n",
       "    </tr>\n",
       "    <tr>\n",
       "      <th>4</th>\n",
       "      <td>0.0</td>\n",
       "      <td>4</td>\n",
       "      <td>0.00%</td>\n",
       "    </tr>\n",
       "    <tr>\n",
       "      <th>5</th>\n",
       "      <td>1.0</td>\n",
       "      <td>4</td>\n",
       "      <td>20.00%</td>\n",
       "    </tr>\n",
       "    <tr>\n",
       "      <th>6</th>\n",
       "      <td>0.0</td>\n",
       "      <td>1</td>\n",
       "      <td>0.00%</td>\n",
       "    </tr>\n",
       "  </tbody>\n",
       "</table>\n",
       "</div>"
      ],
      "text/plain": [
       "       Survived  Dead Survival Rate\n",
       "Parch                              \n",
       "0         233.0   445        34.37%\n",
       "1          65.0    53        55.08%\n",
       "2          40.0    40        50.00%\n",
       "3           3.0     2        60.00%\n",
       "4           0.0     4         0.00%\n",
       "5           1.0     4        20.00%\n",
       "6           0.0     1         0.00%"
      ]
     },
     "execution_count": 17,
     "metadata": {},
     "output_type": "execute_result"
    }
   ],
   "source": [
    "#Considering the factor of Parent and Child\n",
    "group_table('Parch')"
   ]
  },
  {
   "cell_type": "code",
   "execution_count": 18,
   "metadata": {},
   "outputs": [
    {
     "data": {
      "text/html": [
       "<div>\n",
       "<table border=\"1\" class=\"dataframe\">\n",
       "  <thead>\n",
       "    <tr style=\"text-align: right;\">\n",
       "      <th></th>\n",
       "      <th></th>\n",
       "      <th>Survived</th>\n",
       "      <th>Dead</th>\n",
       "      <th>Survival Rate</th>\n",
       "    </tr>\n",
       "    <tr>\n",
       "      <th>Parch</th>\n",
       "      <th>SibSp</th>\n",
       "      <th></th>\n",
       "      <th></th>\n",
       "      <th></th>\n",
       "    </tr>\n",
       "  </thead>\n",
       "  <tbody>\n",
       "    <tr>\n",
       "      <th rowspan=\"4\" valign=\"top\">0</th>\n",
       "      <th>0</th>\n",
       "      <td>163.0</td>\n",
       "      <td>374.0</td>\n",
       "      <td>30.35%</td>\n",
       "    </tr>\n",
       "    <tr>\n",
       "      <th>1</th>\n",
       "      <td>64.0</td>\n",
       "      <td>59.0</td>\n",
       "      <td>52.03%</td>\n",
       "    </tr>\n",
       "    <tr>\n",
       "      <th>2</th>\n",
       "      <td>4.0</td>\n",
       "      <td>12.0</td>\n",
       "      <td>25.00%</td>\n",
       "    </tr>\n",
       "    <tr>\n",
       "      <th>3</th>\n",
       "      <td>2.0</td>\n",
       "      <td>0.0</td>\n",
       "      <td>100.00%</td>\n",
       "    </tr>\n",
       "    <tr>\n",
       "      <th rowspan=\"5\" valign=\"top\">1</th>\n",
       "      <th>0</th>\n",
       "      <td>25.0</td>\n",
       "      <td>13.0</td>\n",
       "      <td>65.79%</td>\n",
       "    </tr>\n",
       "    <tr>\n",
       "      <th>1</th>\n",
       "      <td>34.0</td>\n",
       "      <td>23.0</td>\n",
       "      <td>59.65%</td>\n",
       "    </tr>\n",
       "    <tr>\n",
       "      <th>2</th>\n",
       "      <td>6.0</td>\n",
       "      <td>1.0</td>\n",
       "      <td>85.71%</td>\n",
       "    </tr>\n",
       "    <tr>\n",
       "      <th>3</th>\n",
       "      <td>0.0</td>\n",
       "      <td>7.0</td>\n",
       "      <td>0.00%</td>\n",
       "    </tr>\n",
       "    <tr>\n",
       "      <th>4</th>\n",
       "      <td>0.0</td>\n",
       "      <td>9.0</td>\n",
       "      <td>0.00%</td>\n",
       "    </tr>\n",
       "    <tr>\n",
       "      <th rowspan=\"7\" valign=\"top\">2</th>\n",
       "      <th>0</th>\n",
       "      <td>21.0</td>\n",
       "      <td>8.0</td>\n",
       "      <td>72.41%</td>\n",
       "    </tr>\n",
       "    <tr>\n",
       "      <th>1</th>\n",
       "      <td>12.0</td>\n",
       "      <td>7.0</td>\n",
       "      <td>63.16%</td>\n",
       "    </tr>\n",
       "    <tr>\n",
       "      <th>2</th>\n",
       "      <td>2.0</td>\n",
       "      <td>2.0</td>\n",
       "      <td>50.00%</td>\n",
       "    </tr>\n",
       "    <tr>\n",
       "      <th>3</th>\n",
       "      <td>2.0</td>\n",
       "      <td>5.0</td>\n",
       "      <td>28.57%</td>\n",
       "    </tr>\n",
       "    <tr>\n",
       "      <th>4</th>\n",
       "      <td>3.0</td>\n",
       "      <td>6.0</td>\n",
       "      <td>33.33%</td>\n",
       "    </tr>\n",
       "    <tr>\n",
       "      <th>5</th>\n",
       "      <td>0.0</td>\n",
       "      <td>5.0</td>\n",
       "      <td>0.00%</td>\n",
       "    </tr>\n",
       "    <tr>\n",
       "      <th>8</th>\n",
       "      <td>0.0</td>\n",
       "      <td>7.0</td>\n",
       "      <td>0.00%</td>\n",
       "    </tr>\n",
       "  </tbody>\n",
       "</table>\n",
       "</div>"
      ],
      "text/plain": [
       "             Survived   Dead Survival Rate\n",
       "Parch SibSp                               \n",
       "0     0         163.0  374.0        30.35%\n",
       "      1          64.0   59.0        52.03%\n",
       "      2           4.0   12.0        25.00%\n",
       "      3           2.0    0.0       100.00%\n",
       "1     0          25.0   13.0        65.79%\n",
       "      1          34.0   23.0        59.65%\n",
       "      2           6.0    1.0        85.71%\n",
       "      3           0.0    7.0         0.00%\n",
       "      4           0.0    9.0         0.00%\n",
       "2     0          21.0    8.0        72.41%\n",
       "      1          12.0    7.0        63.16%\n",
       "      2           2.0    2.0        50.00%\n",
       "      3           2.0    5.0        28.57%\n",
       "      4           3.0    6.0        33.33%\n",
       "      5           0.0    5.0         0.00%\n",
       "      8           0.0    7.0         0.00%"
      ]
     },
     "execution_count": 18,
     "metadata": {},
     "output_type": "execute_result"
    }
   ],
   "source": [
    "df_P_S = group_table(['Parch', 'SibSp'])\n",
    "df_P_S.loc[0:2]"
   ]
  },
  {
   "cell_type": "markdown",
   "metadata": {},
   "source": [
    "### Answer to Q-2 :  Were people with families more likely to survive than the ones were alone on the ship? \n",
    "\n",
    "(SibSp refers to families like brothers, sisters and spouse; Parch refers to parents and children)\n",
    "\n",
    "According to first two tables, it seems that people with 1 or 2 SibSp would have a higer survival rate than the ones without SibSp. And people with 1 or 2 Parch also were more likely to survive than people with 0 Parch. To be more specified, only __30.35% of the single passengers survived__ while __others with 1-3 families had much higer survival rates in general__ ( For example: people with 1 SibSp: 52.03% ; People with 1 Parch and 1 SibSp: 59.65%). \n",
    "\n",
    "When the family became bigger, the survival rate didn't go up but sharply dropped down in most cases. Considering the small sample numbers, the statistics shown here may include bias and more data is needed to do further analysis on big family situation."
   ]
  },
  {
   "cell_type": "code",
   "execution_count": 19,
   "metadata": {
    "collapsed": true
   },
   "outputs": [],
   "source": [
    "# build a helper function to draw line charts \n",
    "\n",
    "def line_total_sex(factor, fig_num):\n",
    "    '''Draw the line chart(male_only, female_only, total) of survival rate based on specified factor\n",
    "    factor: str\n",
    "    fig_num: fig_num used in the chart title, positive int'''\n",
    "    \n",
    "    # generate the total data for line chart \n",
    "    df_factor_n = group_table(factor, num = True)\n",
    "    df_factor_line_t = df_factor_n['Survival Rate'].rename('Total', inplace = True)\n",
    "\n",
    "    # generate the data for each gender\n",
    "    df_sex_factor_n= group_table(['Sex',factor], num = True)\n",
    "    df_factor_line_f = df_sex_factor_n.loc['female','Survival Rate'].rename('Female', inplace = True)\n",
    "    df_factor_line_m = df_sex_factor_n.loc['male','Survival Rate'].rename('Male', inplace = True)\n",
    "\n",
    "    # meger the data and draw the line chart\n",
    "    df_factor_line = pd.concat([df_factor_line_t, df_factor_line_f, df_factor_line_m], axis = 1)\n",
    "    df_factor_line.plot(color = ['g','r','b'], marker = 'o', figsize = (5, 3),\n",
    "                        title = 'Fig_{}  Survival Rate by {}'.format(fig_num, factor))"
   ]
  },
  {
   "cell_type": "code",
   "execution_count": 20,
   "metadata": {},
   "outputs": [
    {
     "data": {
      "text/html": [
       "<div>\n",
       "<table border=\"1\" class=\"dataframe\">\n",
       "  <thead>\n",
       "    <tr style=\"text-align: right;\">\n",
       "      <th></th>\n",
       "      <th>Survived</th>\n",
       "      <th>Dead</th>\n",
       "      <th>Survival Rate</th>\n",
       "    </tr>\n",
       "    <tr>\n",
       "      <th>Pclass</th>\n",
       "      <th></th>\n",
       "      <th></th>\n",
       "      <th></th>\n",
       "    </tr>\n",
       "  </thead>\n",
       "  <tbody>\n",
       "    <tr>\n",
       "      <th>1</th>\n",
       "      <td>136</td>\n",
       "      <td>80</td>\n",
       "      <td>62.96%</td>\n",
       "    </tr>\n",
       "    <tr>\n",
       "      <th>2</th>\n",
       "      <td>87</td>\n",
       "      <td>97</td>\n",
       "      <td>47.28%</td>\n",
       "    </tr>\n",
       "    <tr>\n",
       "      <th>3</th>\n",
       "      <td>119</td>\n",
       "      <td>372</td>\n",
       "      <td>24.24%</td>\n",
       "    </tr>\n",
       "  </tbody>\n",
       "</table>\n",
       "</div>"
      ],
      "text/plain": [
       "        Survived  Dead Survival Rate\n",
       "Pclass                              \n",
       "1            136    80        62.96%\n",
       "2             87    97        47.28%\n",
       "3            119   372        24.24%"
      ]
     },
     "execution_count": 20,
     "metadata": {},
     "output_type": "execute_result"
    }
   ],
   "source": [
    "group_table('Pclass')"
   ]
  },
  {
   "cell_type": "code",
   "execution_count": 21,
   "metadata": {
    "scrolled": true
   },
   "outputs": [
    {
     "data": {
      "image/png": "[encoded data removed]",
      "text/plain": [
       "<matplotlib.figure.Figure at 0xbb13898>"
      ]
     },
     "metadata": {},
     "output_type": "display_data"
    }
   ],
   "source": [
    "line_total_sex('Pclass',4)"
   ]
  },
  {
   "cell_type": "code",
   "execution_count": 22,
   "metadata": {},
   "outputs": [
    {
     "data": {
      "text/html": [
       "<div>\n",
       "<table border=\"1\" class=\"dataframe\">\n",
       "  <thead>\n",
       "    <tr style=\"text-align: right;\">\n",
       "      <th></th>\n",
       "      <th>Survived</th>\n",
       "      <th>Dead</th>\n",
       "      <th>Survival Rate</th>\n",
       "    </tr>\n",
       "    <tr>\n",
       "      <th>Fare Group</th>\n",
       "      <th></th>\n",
       "      <th></th>\n",
       "      <th></th>\n",
       "    </tr>\n",
       "  </thead>\n",
       "  <tbody>\n",
       "    <tr>\n",
       "      <th>0 to 8</th>\n",
       "      <td>51</td>\n",
       "      <td>175</td>\n",
       "      <td>22.57%</td>\n",
       "    </tr>\n",
       "    <tr>\n",
       "      <th>08 to 15</th>\n",
       "      <td>62</td>\n",
       "      <td>155</td>\n",
       "      <td>28.57%</td>\n",
       "    </tr>\n",
       "    <tr>\n",
       "      <th>15 to 31</th>\n",
       "      <td>99</td>\n",
       "      <td>112</td>\n",
       "      <td>46.92%</td>\n",
       "    </tr>\n",
       "    <tr>\n",
       "      <th>over 31</th>\n",
       "      <td>129</td>\n",
       "      <td>93</td>\n",
       "      <td>58.11%</td>\n",
       "    </tr>\n",
       "  </tbody>\n",
       "</table>\n",
       "</div>"
      ],
      "text/plain": [
       "            Survived  Dead Survival Rate\n",
       "Fare Group                              \n",
       "0 to 8            51   175        22.57%\n",
       "08 to 15          62   155        28.57%\n",
       "15 to 31          99   112        46.92%\n",
       "over 31          129    93        58.11%"
      ]
     },
     "execution_count": 22,
     "metadata": {},
     "output_type": "execute_result"
    }
   ],
   "source": [
    "group_table('Fare Group')"
   ]
  },
  {
   "cell_type": "code",
   "execution_count": 23,
   "metadata": {},
   "outputs": [
    {
     "data": {
      "image/png": "[encoded data removed]",
      "text/plain": [
       "<matplotlib.figure.Figure at 0xb99add8>"
      ]
     },
     "metadata": {},
     "output_type": "display_data"
    }
   ],
   "source": [
    "line_total_sex('Fare Group', 5)"
   ]
  },
  {
   "cell_type": "markdown",
   "metadata": {
    "collapsed": true
   },
   "source": [
    "### Answer to Q -3 : Were the richer people (depending on the fare paid and their Pclass level) more likely to survive ?\n",
    "\n",
    "(1 is the highest Pcalss level)\n",
    "\n",
    "Based on grouped table data, __higher Pclass level people trend to have a higher survival rate__. \n",
    "\n",
    "Is that beacuse most females were in Pclass level -1 (since female had a much higher servival rate)? From line chart Fig_4 , all three lines dropped down with the decreasing of Pclass level so the assumption is valid no matter taking gender factor into consideration or not.\n",
    "\n",
    "Judging by numbers, the fare group data showed same tendency: __people who paid higher fares seemed to be more likely to survive__. \n",
    "\n",
    "However, when I include the gender factor, the line chart looks a little different: female passengers who paid 0-8 had a slightly higher survival rate than the ones paid 8 to 15. In fact, the three female fare groups had a similiar high survival rate compared to male. _\"Lady first\" really worked at that time even than money did._\n",
    "\n",
    "Therefore, it seems that __richer people would have a better chance to survive this disaster__ in general."
   ]
  },
  {
   "cell_type": "markdown",
   "metadata": {
    "collapsed": true
   },
   "source": [
    "## ------ Hyperthesis Test\n",
    "\n",
    "Since survival status and other factors studied above are all categorical data, I choose Chi Square test to check the correlation between them.\n",
    "\n",
    "I choose alpha = 0.05 and H0 / Ha for each factor as below:\n",
    "- For gender, H0: Sex and survival status are independent; Ha: Sex and survival status are dependent\n",
    "\n",
    "- For Pclass, H0: Pclass and survival status are independent; Ha: Pclass and survival status are dependent\n",
    "\n",
    "- For age group, H0: age group and survival status are independent; Ha: age group and survival status are dependent\n",
    "\n",
    "- For fare group, H0: fare group and survial status are independent; Ha: fare group and survial status are dependent\n",
    "\n",
    "- For SibSp, H0: SibSp and survial status are independent; Ha: SibSp and survial status are dependent\n",
    "\n",
    "- For Parch, H0: Parch and survial status are independent; Ha: Parch and survial status are dependent"
   ]
  },
  {
   "cell_type": "code",
   "execution_count": 24,
   "metadata": {
    "collapsed": true
   },
   "outputs": [],
   "source": [
    "import scipy.stats as ss\n",
    "# definde a function to calculate the P value of Chi square test \n",
    "def chi2_test_Pvalue(factor):\n",
    "    '''Return the P value of chi square test between factor and survival status\n",
    "    factor: string\n",
    "    return: float'''\n",
    "    \n",
    "    contingency_table = group_table(factor, rate = False)\n",
    "    chi2_result = ss.chi2_contingency(contingency_table.values) ## reference 4\n",
    "    \n",
    "    print('\\nThe P value of Chi Square test between {} and Survival Status is: {:.4f}'.format(factor, chi2_result[1]))"
   ]
  },
  {
   "cell_type": "code",
   "execution_count": 25,
   "metadata": {
    "scrolled": true
   },
   "outputs": [
    {
     "name": "stdout",
     "output_type": "stream",
     "text": [
      "\n",
      "The P value of Chi Square test between Sex and Survival Status is: 0.0000\n",
      "\n",
      "The P value of Chi Square test between Pclass and Survival Status is: 0.0000\n",
      "\n",
      "The P value of Chi Square test between Age Group and Survival Status is: 0.0021\n",
      "\n",
      "The P value of Chi Square test between Fare Group and Survival Status is: 0.0000\n",
      "\n",
      "The P value of Chi Square test between Parch and Survival Status is: 0.0001\n",
      "\n",
      "The P value of Chi Square test between SibSp and Survival Status is: 0.0000\n"
     ]
    }
   ],
   "source": [
    "chi2_test_Pvalue('Sex')\n",
    "chi2_test_Pvalue('Pclass')\n",
    "chi2_test_Pvalue('Age Group')\n",
    "chi2_test_Pvalue('Fare Group')\n",
    "chi2_test_Pvalue('Parch')\n",
    "chi2_test_Pvalue('SibSp')"
   ]
  },
  {
   "cell_type": "markdown",
   "metadata": {},
   "source": [
    "All the P value is less than our alpha 0.05 so reject all H0 hyperthesis:   \n",
    "   \n",
    "\"Sex\",\"Pclass\", \"Age\", \"Fare\", \"SibSp\", and \"Parch\" are __dependent__ with \"Survival Stutas\" in Titanic's disaster based on the data provided."
   ]
  },
  {
   "cell_type": "markdown",
   "metadata": {},
   "source": [
    "## Quick Conclusion:\n",
    "\n",
    "Based on provided data, female, children, richer people (higher Pclass level and paying higher fare), people with 1-3 famlies on the ship were more likely to survive the Titanic Disaster than others.\n",
    "\n",
    "#### Report Limitation to be noticed:\n",
    "1. The provied data is only part of the whole population. No information about how the samples were collected and selected is given, so sampling itself may include bias already.\n",
    "2. When cleaning the data, I used estimated values to apprach the missing data. For example, I used mean value (rounded to 30) in Age columns assuming the missing data had similar distribution. If the missing data was not in fact, big bias may be introduced into my analysis.  \n"
   ]
  }
 ],
 "metadata": {
  "kernelspec": {
   "display_name": "Python [conda env:DAND]",
   "language": "python",
   "name": "conda-env-DAND-py"
  },
  "language_info": {
   "codemirror_mode": {
    "name": "ipython",
    "version": 2
   },
   "file_extension": ".py",
   "mimetype": "text/x-python",
   "name": "python",
   "nbconvert_exporter": "python",
   "pygments_lexer": "ipython2",
   "version": "2.7.12"
  }
 },
 "nbformat": 4,
 "nbformat_minor": 2
}
