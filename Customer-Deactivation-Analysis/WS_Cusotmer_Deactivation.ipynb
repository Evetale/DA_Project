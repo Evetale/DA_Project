{
 "cells": [
  {
   "cell_type": "markdown",
   "metadata": {},
   "source": [
    "# Wireless Service Customer Deactivation Analysis\n",
    "\n",
    "### Data Information:\n",
    "   acctno –account number  \n",
    "   actdt – account active date  \n",
    "   deactdt – account deactivate date  \n",
    "   deactreason – reason for  deactivation  \n",
    "   goodcredit – credit is good or not  \n",
    "   rateplan – rate plan  \n",
    "   dealertype – dealer type  \n",
    "\n",
    "### Analysis lists\n",
    "1. Clean the provided data ( duplicates / missing values) and obtain the earliest and latest active/deactivate date available. \n",
    "\n",
    "2. Calculate tenure days for each account and obtain the statistics\n",
    "\n",
    "3. Segment the account base by account status and tenure group; Then test the general assocaition with different factors for tenure segments and account status"
   ]
  },
  {
   "cell_type": "code",
   "execution_count": 1,
   "metadata": {
    "collapsed": true
   },
   "outputs": [],
   "source": [
    "import numpy as np\n",
    "import pandas as pd"
   ]
  },
  {
   "cell_type": "code",
   "execution_count": 2,
   "metadata": {},
   "outputs": [
    {
     "data": {
      "text/html": [
       "<div>\n",
       "<style>\n",
       "    .dataframe thead tr:only-child th {\n",
       "        text-align: right;\n",
       "    }\n",
       "\n",
       "    .dataframe thead th {\n",
       "        text-align: left;\n",
       "    }\n",
       "\n",
       "    .dataframe tbody tr th {\n",
       "        vertical-align: top;\n",
       "    }\n",
       "</style>\n",
       "<table border=\"1\" class=\"dataframe\">\n",
       "  <thead>\n",
       "    <tr style=\"text-align: right;\">\n",
       "      <th></th>\n",
       "      <th>acctno</th>\n",
       "      <th>actdt</th>\n",
       "      <th>deactdt</th>\n",
       "      <th>deactreason</th>\n",
       "      <th>goodcredit</th>\n",
       "      <th>rateplan</th>\n",
       "      <th>dealertype</th>\n",
       "    </tr>\n",
       "  </thead>\n",
       "  <tbody>\n",
       "    <tr>\n",
       "      <th>0</th>\n",
       "      <td>1176913194483</td>\n",
       "      <td>1999-06-20</td>\n",
       "      <td>NaN</td>\n",
       "      <td>NaN</td>\n",
       "      <td>0</td>\n",
       "      <td>1</td>\n",
       "      <td>A1</td>\n",
       "    </tr>\n",
       "    <tr>\n",
       "      <th>1</th>\n",
       "      <td>1176914599423</td>\n",
       "      <td>1999-10-04</td>\n",
       "      <td>1999-10-15</td>\n",
       "      <td>NEED</td>\n",
       "      <td>1</td>\n",
       "      <td>1</td>\n",
       "      <td>A1</td>\n",
       "    </tr>\n",
       "    <tr>\n",
       "      <th>2</th>\n",
       "      <td>1176951913656</td>\n",
       "      <td>2000-07-01</td>\n",
       "      <td>NaN</td>\n",
       "      <td>NaN</td>\n",
       "      <td>0</td>\n",
       "      <td>1</td>\n",
       "      <td>A1</td>\n",
       "    </tr>\n",
       "  </tbody>\n",
       "</table>\n",
       "</div>"
      ],
      "text/plain": [
       "          acctno       actdt     deactdt deactreason  goodcredit  rateplan  \\\n",
       "0  1176913194483  1999-06-20         NaN         NaN           0         1   \n",
       "1  1176914599423  1999-10-04  1999-10-15        NEED           1         1   \n",
       "2  1176951913656  2000-07-01         NaN         NaN           0         1   \n",
       "\n",
       "  dealertype  \n",
       "0         A1  \n",
       "1         A1  \n",
       "2         A1  "
      ]
     },
     "execution_count": 2,
     "metadata": {},
     "output_type": "execute_result"
    }
   ],
   "source": [
    "df = pd.read_csv('wireless_data.csv')\n",
    "df.head(3)"
   ]
  },
  {
   "cell_type": "markdown",
   "metadata": {},
   "source": [
    "### Step 1:  \n",
    "Clean the provided data ( duplicates / missing values) and obtain the earliest and latest active/deactivate date available"
   ]
  },
  {
   "cell_type": "code",
   "execution_count": 3,
   "metadata": {},
   "outputs": [
    {
     "name": "stdout",
     "output_type": "stream",
     "text": [
      "The original data has 102255 usres\n",
      "After dropping duplicates by Python, we found: 0 duplicates rows in total.\n"
     ]
    }
   ],
   "source": [
    "# check duplicate rows\n",
    "total_users = df.shape[0]\n",
    "total_uni_users = df.drop_duplicates().shape[0]\n",
    "print('The original data has {} usres'.format(total_users))\n",
    "print('After dropping duplicates by Python, we found: {} duplicates rows in total.'.format(total_users - total_uni_users))"
   ]
  },
  {
   "cell_type": "code",
   "execution_count": 4,
   "metadata": {
    "scrolled": true
   },
   "outputs": [
    {
     "data": {
      "text/plain": [
       "acctno             0\n",
       "actdt              0\n",
       "deactdt        82620\n",
       "deactreason    83162\n",
       "goodcredit         0\n",
       "rateplan           0\n",
       "dealertype         0\n",
       "dtype: int64"
      ]
     },
     "execution_count": 4,
     "metadata": {},
     "output_type": "execute_result"
    }
   ],
   "source": [
    "# check missing values\n",
    "df.isnull().sum()"
   ]
  },
  {
   "cell_type": "code",
   "execution_count": 5,
   "metadata": {},
   "outputs": [
    {
     "name": "stdout",
     "output_type": "stream",
     "text": [
      "19635 users have deactivated the services.\n",
      "82620 users have not deactivated the services yet.\n",
      "The earlist activating date is: 1999-01-20 and the latest activating date is : 2001-01-20\n",
      "The earlist deactivating date is: 1999-01-25 and the latest deactivating date is : 2001-01-20\n"
     ]
    }
   ],
   "source": [
    "print(\"{} users have deactivated the services.\".format(df.shape[0] - 82620))\n",
    "print(\"82620 users have not deactivated the services yet.\")\n",
    "\n",
    "# Transfer the date format\n",
    "df['actdt'] = pd.to_datetime(df['actdt'])\n",
    "df['deactdt'] = pd.to_datetime(df['deactdt'])\n",
    "\n",
    "act_early = df['actdt'].min().to_pydatetime().strftime('%Y-%m-%d') # use strftime function to get time in string\n",
    "act_late = df['actdt'].max().to_pydatetime().strftime('%Y-%m-%d')\n",
    "deact_early = df['deactdt'].min().to_pydatetime().strftime('%Y-%m-%d')\n",
    "deact_late = df['deactdt'].max().to_pydatetime().strftime('%Y-%m-%d')\n",
    "print(\"The earlist activating date is: {} and the latest activating date is : {}\".format(act_early, act_late))\n",
    "print(\"The earlist deactivating date is: {} and the latest deactivating date is : {}\".format(deact_early, deact_late))"
   ]
  },
  {
   "cell_type": "code",
   "execution_count": 6,
   "metadata": {
    "scrolled": false
   },
   "outputs": [
    {
     "data": {
      "text/html": [
       "<div>\n",
       "<style>\n",
       "    .dataframe thead tr:only-child th {\n",
       "        text-align: right;\n",
       "    }\n",
       "\n",
       "    .dataframe thead th {\n",
       "        text-align: left;\n",
       "    }\n",
       "\n",
       "    .dataframe tbody tr th {\n",
       "        vertical-align: top;\n",
       "    }\n",
       "</style>\n",
       "<table border=\"1\" class=\"dataframe\">\n",
       "  <thead>\n",
       "    <tr style=\"text-align: right;\">\n",
       "      <th></th>\n",
       "      <th>acctno</th>\n",
       "      <th>actdt</th>\n",
       "      <th>deactdt</th>\n",
       "      <th>deactreason</th>\n",
       "      <th>goodcredit</th>\n",
       "      <th>rateplan</th>\n",
       "      <th>dealertype</th>\n",
       "    </tr>\n",
       "  </thead>\n",
       "  <tbody>\n",
       "    <tr>\n",
       "      <th>0</th>\n",
       "      <td>1176913194483</td>\n",
       "      <td>1999-06-20</td>\n",
       "      <td>2001-01-21</td>\n",
       "      <td>Unknown</td>\n",
       "      <td>0</td>\n",
       "      <td>1</td>\n",
       "      <td>A1</td>\n",
       "    </tr>\n",
       "    <tr>\n",
       "      <th>1</th>\n",
       "      <td>1176914599423</td>\n",
       "      <td>1999-10-04</td>\n",
       "      <td>1999-10-15</td>\n",
       "      <td>NEED</td>\n",
       "      <td>1</td>\n",
       "      <td>1</td>\n",
       "      <td>A1</td>\n",
       "    </tr>\n",
       "    <tr>\n",
       "      <th>2</th>\n",
       "      <td>1176951913656</td>\n",
       "      <td>2000-07-01</td>\n",
       "      <td>2001-01-21</td>\n",
       "      <td>Unknown</td>\n",
       "      <td>0</td>\n",
       "      <td>1</td>\n",
       "      <td>A1</td>\n",
       "    </tr>\n",
       "    <tr>\n",
       "      <th>3</th>\n",
       "      <td>1176954000288</td>\n",
       "      <td>2000-05-30</td>\n",
       "      <td>2001-01-21</td>\n",
       "      <td>Unknown</td>\n",
       "      <td>1</td>\n",
       "      <td>2</td>\n",
       "      <td>A1</td>\n",
       "    </tr>\n",
       "    <tr>\n",
       "      <th>4</th>\n",
       "      <td>1176969186303</td>\n",
       "      <td>2000-12-13</td>\n",
       "      <td>2001-01-21</td>\n",
       "      <td>Unknown</td>\n",
       "      <td>1</td>\n",
       "      <td>1</td>\n",
       "      <td>C1</td>\n",
       "    </tr>\n",
       "  </tbody>\n",
       "</table>\n",
       "</div>"
      ],
      "text/plain": [
       "          acctno      actdt    deactdt deactreason  goodcredit  rateplan  \\\n",
       "0  1176913194483 1999-06-20 2001-01-21     Unknown           0         1   \n",
       "1  1176914599423 1999-10-04 1999-10-15        NEED           1         1   \n",
       "2  1176951913656 2000-07-01 2001-01-21     Unknown           0         1   \n",
       "3  1176954000288 2000-05-30 2001-01-21     Unknown           1         2   \n",
       "4  1176969186303 2000-12-13 2001-01-21     Unknown           1         1   \n",
       "\n",
       "  dealertype  \n",
       "0         A1  \n",
       "1         A1  \n",
       "2         A1  \n",
       "3         A1  \n",
       "4         C1  "
      ]
     },
     "execution_count": 6,
     "metadata": {},
     "output_type": "execute_result"
    }
   ],
   "source": [
    "# Dealing with missing values\n",
    "last_day = pd.to_datetime('2001-01-21')\n",
    "\n",
    "df['deactdt'].fillna(last_day, inplace = True)\n",
    "df['deactreason'].fillna('Unknown', inplace = True)\n",
    "df.head()"
   ]
  },
  {
   "cell_type": "markdown",
   "metadata": {},
   "source": [
    "### Step 2:   \n",
    "1. Calculate tenure days for each account and obtian the simple statistics.\n",
    "2. Count deactivated user number for each month"
   ]
  },
  {
   "cell_type": "code",
   "execution_count": 7,
   "metadata": {
    "scrolled": true
   },
   "outputs": [
    {
     "data": {
      "text/html": [
       "<div>\n",
       "<style>\n",
       "    .dataframe thead tr:only-child th {\n",
       "        text-align: right;\n",
       "    }\n",
       "\n",
       "    .dataframe thead th {\n",
       "        text-align: left;\n",
       "    }\n",
       "\n",
       "    .dataframe tbody tr th {\n",
       "        vertical-align: top;\n",
       "    }\n",
       "</style>\n",
       "<table border=\"1\" class=\"dataframe\">\n",
       "  <thead>\n",
       "    <tr style=\"text-align: right;\">\n",
       "      <th></th>\n",
       "      <th>All Users</th>\n",
       "      <th>Still Alive Users</th>\n",
       "      <th>Deactivated Users</th>\n",
       "    </tr>\n",
       "  </thead>\n",
       "  <tbody>\n",
       "    <tr>\n",
       "      <th>count</th>\n",
       "      <td>102255</td>\n",
       "      <td>82620</td>\n",
       "      <td>19635</td>\n",
       "    </tr>\n",
       "    <tr>\n",
       "      <th>mean</th>\n",
       "      <td>283 days 09:06:52.650726</td>\n",
       "      <td>300 days 09:25:06.405228</td>\n",
       "      <td>211 days 19:03:25.164247</td>\n",
       "    </tr>\n",
       "    <tr>\n",
       "      <th>std</th>\n",
       "      <td>197 days 09:25:52.402391</td>\n",
       "      <td>200 days 16:05:02.006583</td>\n",
       "      <td>164 days 17:21:57.484312</td>\n",
       "    </tr>\n",
       "    <tr>\n",
       "      <th>min</th>\n",
       "      <td>0 days 00:00:00</td>\n",
       "      <td>1 days 00:00:00</td>\n",
       "      <td>0 days 00:00:00</td>\n",
       "    </tr>\n",
       "    <tr>\n",
       "      <th>25%</th>\n",
       "      <td>102 days 00:00:00</td>\n",
       "      <td>110 days 00:00:00</td>\n",
       "      <td>74 days 00:00:00</td>\n",
       "    </tr>\n",
       "    <tr>\n",
       "      <th>50%</th>\n",
       "      <td>266 days 00:00:00</td>\n",
       "      <td>299 days 00:00:00</td>\n",
       "      <td>183 days 00:00:00</td>\n",
       "    </tr>\n",
       "    <tr>\n",
       "      <th>75%</th>\n",
       "      <td>426 days 00:00:00</td>\n",
       "      <td>448 days 00:00:00</td>\n",
       "      <td>327 days 00:00:00</td>\n",
       "    </tr>\n",
       "    <tr>\n",
       "      <th>max</th>\n",
       "      <td>732 days 00:00:00</td>\n",
       "      <td>732 days 00:00:00</td>\n",
       "      <td>718 days 00:00:00</td>\n",
       "    </tr>\n",
       "  </tbody>\n",
       "</table>\n",
       "</div>"
      ],
      "text/plain": [
       "                      All Users         Still Alive Users  \\\n",
       "count                    102255                     82620   \n",
       "mean   283 days 09:06:52.650726  300 days 09:25:06.405228   \n",
       "std    197 days 09:25:52.402391  200 days 16:05:02.006583   \n",
       "min             0 days 00:00:00           1 days 00:00:00   \n",
       "25%           102 days 00:00:00         110 days 00:00:00   \n",
       "50%           266 days 00:00:00         299 days 00:00:00   \n",
       "75%           426 days 00:00:00         448 days 00:00:00   \n",
       "max           732 days 00:00:00         732 days 00:00:00   \n",
       "\n",
       "              Deactivated Users  \n",
       "count                     19635  \n",
       "mean   211 days 19:03:25.164247  \n",
       "std    164 days 17:21:57.484312  \n",
       "min             0 days 00:00:00  \n",
       "25%            74 days 00:00:00  \n",
       "50%           183 days 00:00:00  \n",
       "75%           327 days 00:00:00  \n",
       "max           718 days 00:00:00  "
      ]
     },
     "execution_count": 7,
     "metadata": {},
     "output_type": "execute_result"
    }
   ],
   "source": [
    "df['Tenure Days'] = df['deactdt'] - df['actdt']\n",
    "\n",
    "#Dividing Groups\n",
    "act_gp = df[df['deactdt'] == last_day]  # last_day = pd.to_datetime('2001-01-21')\n",
    "deact_gp = df[df['deactdt'] != last_day]\n",
    "\n",
    "#get statistics \n",
    "df_ss = df['Tenure Days'].describe().rename('All Users')\n",
    "act_ss = act_gp['Tenure Days'].describe().rename('Still Alive Users')\n",
    "deact_ss = deact_gp['Tenure Days'].describe().rename('Deactivated Users')\n",
    "\n",
    "#show the resluts\n",
    "pd.concat([df_ss, act_ss, deact_ss], axis = 1)"
   ]
  },
  {
   "cell_type": "code",
   "execution_count": 8,
   "metadata": {
    "collapsed": true
   },
   "outputs": [],
   "source": [
    "# create a helper function to get specific time format\n",
    "def datetime_switch(timestamp):\n",
    "    '''For given pd.timestamp value, return a string in format as year - month '''\n",
    "    return timestamp.to_pydatetime().strftime('%Y-%m')\n",
    "\n",
    "def user_group(dataframe, by):\n",
    "    '''Return a dataframe grouped by specificed column\n",
    "    dateframe: data set, pd.df\n",
    "    by: column name, str\n",
    "    output: dataframe'''\n",
    "    \n",
    "    tmp_df = dataframe[['acctno',by]].copy()\n",
    "    tmp_df['Date-Month'] = dataframe[by].apply(datetime_switch)\n",
    "    \n",
    "    return tmp_df.groupby('Date-Month').count()[['acctno']]"
   ]
  },
  {
   "cell_type": "code",
   "execution_count": 9,
   "metadata": {},
   "outputs": [
    {
     "data": {
      "text/html": [
       "<div>\n",
       "<style>\n",
       "    .dataframe thead tr:only-child th {\n",
       "        text-align: right;\n",
       "    }\n",
       "\n",
       "    .dataframe thead th {\n",
       "        text-align: left;\n",
       "    }\n",
       "\n",
       "    .dataframe tbody tr th {\n",
       "        vertical-align: top;\n",
       "    }\n",
       "</style>\n",
       "<table border=\"1\" class=\"dataframe\">\n",
       "  <thead>\n",
       "    <tr style=\"text-align: right;\">\n",
       "      <th></th>\n",
       "      <th>Deactivated Users</th>\n",
       "      <th>New Users</th>\n",
       "    </tr>\n",
       "    <tr>\n",
       "      <th>Date-Month</th>\n",
       "      <th></th>\n",
       "      <th></th>\n",
       "    </tr>\n",
       "  </thead>\n",
       "  <tbody>\n",
       "    <tr>\n",
       "      <th>1999-01</th>\n",
       "      <td>2</td>\n",
       "      <td>537</td>\n",
       "    </tr>\n",
       "    <tr>\n",
       "      <th>1999-02</th>\n",
       "      <td>21</td>\n",
       "      <td>935</td>\n",
       "    </tr>\n",
       "    <tr>\n",
       "      <th>1999-03</th>\n",
       "      <td>40</td>\n",
       "      <td>1698</td>\n",
       "    </tr>\n",
       "  </tbody>\n",
       "</table>\n",
       "</div>"
      ],
      "text/plain": [
       "            Deactivated Users  New Users\n",
       "Date-Month                              \n",
       "1999-01                     2        537\n",
       "1999-02                    21        935\n",
       "1999-03                    40       1698"
      ]
     },
     "execution_count": 9,
     "metadata": {},
     "output_type": "execute_result"
    }
   ],
   "source": [
    "deact_gb = user_group(deact_gp, 'deactdt')\n",
    "act_gb = user_group(act_gp, 'actdt')\n",
    "\n",
    "# merge the data\n",
    "date_count = pd.concat([deact_gb, act_gb], axis = 1)\n",
    "date_count.columns = ['Deactivated Users','New Users']\n",
    "\n",
    "date_count.head(3)"
   ]
  },
  {
   "cell_type": "code",
   "execution_count": 10,
   "metadata": {
    "collapsed": true
   },
   "outputs": [],
   "source": [
    "%matplotlib inline\n",
    "import matplotlib.pyplot as plt\n",
    "import seaborn as sns"
   ]
  },
  {
   "cell_type": "code",
   "execution_count": 11,
   "metadata": {},
   "outputs": [
    {
     "data": {
      "text/plain": [
       "<matplotlib.axes._subplots.AxesSubplot at 0x200230f47f0>"
      ]
     },
     "execution_count": 11,
     "metadata": {},
     "output_type": "execute_result"
    },
    {
     "data": {
      "image/png": "[encoded data removed]",
      "text/plain": [
       "<matplotlib.figure.Figure at 0x200230b9f28>"
      ]
     },
     "metadata": {},
     "output_type": "display_data"
    }
   ],
   "source": [
    "date_count.plot(color = ['r','b'],figsize = (10,5), title = 'Fig.1  User numbers during 1999 to 2001')"
   ]
  },
  {
   "cell_type": "code",
   "execution_count": 12,
   "metadata": {},
   "outputs": [
    {
     "data": {
      "text/plain": [
       "<matplotlib.axes._subplots.AxesSubplot at 0x20023510d68>"
      ]
     },
     "execution_count": 12,
     "metadata": {},
     "output_type": "execute_result"
    },
    {
     "data": {
      "image/png": "[encoded data removed]",
      "text/plain": [
       "<matplotlib.figure.Figure at 0x200234bfbe0>"
      ]
     },
     "metadata": {},
     "output_type": "display_data"
    }
   ],
   "source": [
    "deact_gb.plot(kind = 'bar', figsize = (10,5), title = 'Fig.2  Deactivated User numbers by month')"
   ]
  },
  {
   "cell_type": "markdown",
   "metadata": {
    "collapsed": true
   },
   "source": [
    "### Step - 3:  \n",
    "Segment the account base by account status – ‘deactivated’ and ‘still alive’ and by tenure: tenures are less than 30 days, between 31 and 60 days, between 61 days and one year, over a year. \n",
    "\n",
    "1.Test the general association between the tenure segments and ‘goodcredit’ ‘rateplan’ and ‘dealertype’\n",
    "\n",
    "2.Test the general association between the account status and ‘goodcredit’ ‘rateplan’ and ‘dealertype’"
   ]
  },
  {
   "cell_type": "code",
   "execution_count": 13,
   "metadata": {},
   "outputs": [
    {
     "data": {
      "text/html": [
       "<div>\n",
       "<style>\n",
       "    .dataframe thead tr:only-child th {\n",
       "        text-align: right;\n",
       "    }\n",
       "\n",
       "    .dataframe thead th {\n",
       "        text-align: left;\n",
       "    }\n",
       "\n",
       "    .dataframe tbody tr th {\n",
       "        vertical-align: top;\n",
       "    }\n",
       "</style>\n",
       "<table border=\"1\" class=\"dataframe\">\n",
       "  <thead>\n",
       "    <tr style=\"text-align: right;\">\n",
       "      <th></th>\n",
       "      <th>acctno</th>\n",
       "      <th>actdt</th>\n",
       "      <th>deactdt</th>\n",
       "      <th>deactreason</th>\n",
       "      <th>goodcredit</th>\n",
       "      <th>rateplan</th>\n",
       "      <th>dealertype</th>\n",
       "      <th>Tenure Days</th>\n",
       "      <th>User Status</th>\n",
       "      <th>Tenure Group</th>\n",
       "    </tr>\n",
       "  </thead>\n",
       "  <tbody>\n",
       "    <tr>\n",
       "      <th>0</th>\n",
       "      <td>1176913194483</td>\n",
       "      <td>1999-06-20</td>\n",
       "      <td>2001-01-21</td>\n",
       "      <td>Unknown</td>\n",
       "      <td>0</td>\n",
       "      <td>1</td>\n",
       "      <td>A1</td>\n",
       "      <td>581 days</td>\n",
       "      <td>Still alive</td>\n",
       "      <td>over 1 year</td>\n",
       "    </tr>\n",
       "    <tr>\n",
       "      <th>1</th>\n",
       "      <td>1176914599423</td>\n",
       "      <td>1999-10-04</td>\n",
       "      <td>1999-10-15</td>\n",
       "      <td>NEED</td>\n",
       "      <td>1</td>\n",
       "      <td>1</td>\n",
       "      <td>A1</td>\n",
       "      <td>11 days</td>\n",
       "      <td>Deactivated</td>\n",
       "      <td>0 to 30 days</td>\n",
       "    </tr>\n",
       "    <tr>\n",
       "      <th>2</th>\n",
       "      <td>1176951913656</td>\n",
       "      <td>2000-07-01</td>\n",
       "      <td>2001-01-21</td>\n",
       "      <td>Unknown</td>\n",
       "      <td>0</td>\n",
       "      <td>1</td>\n",
       "      <td>A1</td>\n",
       "      <td>204 days</td>\n",
       "      <td>Still alive</td>\n",
       "      <td>61 days to 1 year</td>\n",
       "    </tr>\n",
       "  </tbody>\n",
       "</table>\n",
       "</div>"
      ],
      "text/plain": [
       "          acctno      actdt    deactdt deactreason  goodcredit  rateplan  \\\n",
       "0  1176913194483 1999-06-20 2001-01-21     Unknown           0         1   \n",
       "1  1176914599423 1999-10-04 1999-10-15        NEED           1         1   \n",
       "2  1176951913656 2000-07-01 2001-01-21     Unknown           0         1   \n",
       "\n",
       "  dealertype Tenure Days  User Status       Tenure Group  \n",
       "0         A1    581 days  Still alive        over 1 year  \n",
       "1         A1     11 days  Deactivated       0 to 30 days  \n",
       "2         A1    204 days  Still alive  61 days to 1 year  "
      ]
     },
     "execution_count": 13,
     "metadata": {},
     "output_type": "execute_result"
    }
   ],
   "source": [
    "# Get user status (using lambda funciton if is faster than def a if else function)\n",
    "df['User Status'] = df['deactdt'].apply(lambda x : 'Still alive' if x == last_day else 'Deactivated' )\n",
    "\n",
    "# cut fuction will not included the left side ( right incluced by default)\n",
    "tenure_bins = pd.to_timedelta(['-1 days', '30 days', '60 days', '365 days', '732 days'])\n",
    "tenure_labels = ['0 to 30 days','31 to 60 days', '61 days to 1 year','over 1 year']\n",
    "df['Tenure Group'] = pd.cut(df['Tenure Days'], bins = tenure_bins, labels = tenure_labels)\n",
    "\n",
    "df.head(3)"
   ]
  },
  {
   "cell_type": "code",
   "execution_count": 14,
   "metadata": {
    "collapsed": true
   },
   "outputs": [],
   "source": [
    "# define a helper function for groupby question\n",
    "def percent_of_all (series):\n",
    "    '''return percent of total for each element in a series\n",
    "    input: a numeric series\n",
    "    output: string showing percentage '''\n",
    "    # calculate the percentage \n",
    "    tmp = series / series.sum()\n",
    "    # format the answer\n",
    "    ans = tmp.apply(lambda x : '{:.2%}'.format(x))\n",
    "    return ans\n",
    "\n",
    "def df_group_per(dataframe, by):\n",
    "    '''With given dataframe, returan a new dataframe groupby \"by column\" and show acct# account and percentage\n",
    "    input: dateframe: pandas clean dataframe\n",
    "    by: a list of string of column names which used to groupby\n",
    "    \n",
    "    output: a new dateframe with by and by_per columns only'''\n",
    "    dataframe_gb = dataframe.groupby(by).count()[['acctno']]\n",
    "    dataframe_gb['acctno_per'] = percent_of_all(dataframe_gb['acctno'])\n",
    "    \n",
    "    return dataframe_gb"
   ]
  },
  {
   "cell_type": "code",
   "execution_count": 15,
   "metadata": {},
   "outputs": [
    {
     "data": {
      "text/html": [
       "<div>\n",
       "<style>\n",
       "    .dataframe thead tr:only-child th {\n",
       "        text-align: right;\n",
       "    }\n",
       "\n",
       "    .dataframe thead th {\n",
       "        text-align: left;\n",
       "    }\n",
       "\n",
       "    .dataframe tbody tr th {\n",
       "        vertical-align: top;\n",
       "    }\n",
       "</style>\n",
       "<table border=\"1\" class=\"dataframe\">\n",
       "  <thead>\n",
       "    <tr style=\"text-align: right;\">\n",
       "      <th></th>\n",
       "      <th>acctno</th>\n",
       "      <th>acctno_per</th>\n",
       "    </tr>\n",
       "    <tr>\n",
       "      <th>User Status</th>\n",
       "      <th></th>\n",
       "      <th></th>\n",
       "    </tr>\n",
       "  </thead>\n",
       "  <tbody>\n",
       "    <tr>\n",
       "      <th>Deactivated</th>\n",
       "      <td>19635</td>\n",
       "      <td>19.20%</td>\n",
       "    </tr>\n",
       "    <tr>\n",
       "      <th>Still alive</th>\n",
       "      <td>82620</td>\n",
       "      <td>80.80%</td>\n",
       "    </tr>\n",
       "  </tbody>\n",
       "</table>\n",
       "</div>"
      ],
      "text/plain": [
       "             acctno acctno_per\n",
       "User Status                   \n",
       "Deactivated   19635     19.20%\n",
       "Still alive   82620     80.80%"
      ]
     },
     "execution_count": 15,
     "metadata": {},
     "output_type": "execute_result"
    }
   ],
   "source": [
    "user_status_pie = df_group_per(df, 'User Status')\n",
    "user_status_pie"
   ]
  },
  {
   "cell_type": "code",
   "execution_count": 16,
   "metadata": {},
   "outputs": [
    {
     "data": {
      "text/plain": [
       "array([<matplotlib.axes._subplots.AxesSubplot object at 0x000002002368F0F0>], dtype=object)"
      ]
     },
     "execution_count": 16,
     "metadata": {},
     "output_type": "execute_result"
    },
    {
     "data": {
      "image/png": "[encoded data removed]",
      "text/plain": [
       "<matplotlib.figure.Figure at 0x2002358b320>"
      ]
     },
     "metadata": {},
     "output_type": "display_data"
    }
   ],
   "source": [
    "user_status_pie[['acctno']].plot(kind = 'pie', explode = (0.03, 0.03), autopct = '%.2f%%', figsize = (6,6), subplots = True,\n",
    "                                legend = False, title = 'Fig.3  User Status in Percent')"
   ]
  },
  {
   "cell_type": "code",
   "execution_count": 17,
   "metadata": {},
   "outputs": [
    {
     "data": {
      "text/html": [
       "<div>\n",
       "<style>\n",
       "    .dataframe thead tr:only-child th {\n",
       "        text-align: right;\n",
       "    }\n",
       "\n",
       "    .dataframe thead th {\n",
       "        text-align: left;\n",
       "    }\n",
       "\n",
       "    .dataframe tbody tr th {\n",
       "        vertical-align: top;\n",
       "    }\n",
       "</style>\n",
       "<table border=\"1\" class=\"dataframe\">\n",
       "  <thead>\n",
       "    <tr style=\"text-align: right;\">\n",
       "      <th></th>\n",
       "      <th>acctno</th>\n",
       "      <th>acctno_per</th>\n",
       "    </tr>\n",
       "    <tr>\n",
       "      <th>Tenure Group</th>\n",
       "      <th></th>\n",
       "      <th></th>\n",
       "    </tr>\n",
       "  </thead>\n",
       "  <tbody>\n",
       "    <tr>\n",
       "      <th>0 to 30 days</th>\n",
       "      <td>9566</td>\n",
       "      <td>9.36%</td>\n",
       "    </tr>\n",
       "    <tr>\n",
       "      <th>31 to 60 days</th>\n",
       "      <td>8534</td>\n",
       "      <td>8.35%</td>\n",
       "    </tr>\n",
       "    <tr>\n",
       "      <th>61 days to 1 year</th>\n",
       "      <td>45404</td>\n",
       "      <td>44.40%</td>\n",
       "    </tr>\n",
       "    <tr>\n",
       "      <th>over 1 year</th>\n",
       "      <td>38751</td>\n",
       "      <td>37.90%</td>\n",
       "    </tr>\n",
       "  </tbody>\n",
       "</table>\n",
       "</div>"
      ],
      "text/plain": [
       "                   acctno acctno_per\n",
       "Tenure Group                        \n",
       "0 to 30 days         9566      9.36%\n",
       "31 to 60 days        8534      8.35%\n",
       "61 days to 1 year   45404     44.40%\n",
       "over 1 year         38751     37.90%"
      ]
     },
     "execution_count": 17,
     "metadata": {},
     "output_type": "execute_result"
    }
   ],
   "source": [
    "tenure_group_pie =df_group_per(df, 'Tenure Group')\n",
    "tenure_group_pie"
   ]
  },
  {
   "cell_type": "code",
   "execution_count": 18,
   "metadata": {},
   "outputs": [
    {
     "data": {
      "text/plain": [
       "array([<matplotlib.axes._subplots.AxesSubplot object at 0x000002002366FCC0>], dtype=object)"
      ]
     },
     "execution_count": 18,
     "metadata": {},
     "output_type": "execute_result"
    },
    {
     "data": {
      "image/png": "[encoded data removed]",
      "text/plain": [
       "<matplotlib.figure.Figure at 0x2002348b048>"
      ]
     },
     "metadata": {},
     "output_type": "display_data"
    }
   ],
   "source": [
    "tenure_group_pie['acctno'].plot(kind = 'pie', explode = (0.02, 0.02, 0.01, 0.01), autopct = '%.2f%%', figsize = (6,6), \n",
    "                                subplots = True, legend = False, title = 'Fig.4  User Status in Percent')"
   ]
  },
  {
   "cell_type": "code",
   "execution_count": 19,
   "metadata": {
    "collapsed": true
   },
   "outputs": [],
   "source": [
    "# build helper functions to transfer data to contingency table\n",
    "def get_unique_labels(oneDarray):\n",
    "    '''Separate the unique row and column labels from given one D array, retuan by a dict \n",
    "    for example: \n",
    "    input: array([('a',1), ('a',2), ('a', 3), ('b',1), ('b',2), ('b',3)])\n",
    "    output: {'row':['a','b'], 'column':[1,2,3]}'''\n",
    "    \n",
    "    temp_dict = {'row':[], 'column':[]}\n",
    "    \n",
    "    for item in oneDarray:\n",
    "        if item[0] not in temp_dict['row']:\n",
    "            temp_dict['row'].append(item[0])\n",
    "        if item[1] not in temp_dict['column']:\n",
    "            temp_dict['column'].append(item[1])\n",
    "            \n",
    "    return temp_dict\n",
    "\n",
    "def to_contigency_table(dataframe, row, column):\n",
    "    '''For given dataframe, return a new dataframe with new_index = row groupby value and new_column = column groupby value\n",
    "    the values in the table will be counts based on account number\n",
    "    row: row name in string ( one column of the dataframe)\n",
    "    column: column name in string (one column of the dataframe)'''\n",
    "    \n",
    "    # get a new dataframe using groupby([row, column])\n",
    "    grouped_df = dataframe.groupby([row, column]).count()[['acctno']]\n",
    "     \n",
    "    # get the new row and column values from dataframe\n",
    "    labels_dict = get_unique_labels(grouped_df.index.values)\n",
    "    \n",
    "    # get the np-reshape size tuple like (4,2) here based on row and column number \n",
    "    row_column_tuple = (len(labels_dict['row']),len(labels_dict['column']))\n",
    "    \n",
    "    # reshape the np-array to be ready to build the new dataframe\n",
    "    array_data = np.reshape(grouped_df.values, row_column_tuple)\n",
    "    \n",
    "    # build the target df\n",
    "    target_df = pd.DataFrame(data = array_data, index = labels_dict['row'] ,columns= labels_dict['column'])\n",
    "    \n",
    "    return target_df\n",
    "\n",
    "# to create a helper function to get merged output columns\n",
    "def get_merged_df(df, row, column_list):\n",
    "    '''return a merged dataframe for paired row and column contigency table '''\n",
    "    # set the list of unmerged df\n",
    "    unmerged_list = []\n",
    "    # add the rest data into the df\n",
    "    for i in range( len(column_list)): \n",
    "        unmerged_list.append(to_contigency_table(df, row, column_list[i]))\n",
    "    \n",
    "    # merge everything\n",
    "    merged_df = pd.concat(unmerged_list, axis = 1)\n",
    "        \n",
    "    return merged_df"
   ]
  },
  {
   "cell_type": "code",
   "execution_count": 20,
   "metadata": {},
   "outputs": [
    {
     "data": {
      "text/html": [
       "<div>\n",
       "<style>\n",
       "    .dataframe thead tr:only-child th {\n",
       "        text-align: right;\n",
       "    }\n",
       "\n",
       "    .dataframe thead th {\n",
       "        text-align: left;\n",
       "    }\n",
       "\n",
       "    .dataframe tbody tr th {\n",
       "        vertical-align: top;\n",
       "    }\n",
       "</style>\n",
       "<table border=\"1\" class=\"dataframe\">\n",
       "  <thead>\n",
       "    <tr style=\"text-align: right;\">\n",
       "      <th></th>\n",
       "      <th>A1</th>\n",
       "      <th>A2</th>\n",
       "      <th>B1</th>\n",
       "      <th>C1</th>\n",
       "      <th>1</th>\n",
       "      <th>2</th>\n",
       "      <th>3</th>\n",
       "      <th>0</th>\n",
       "      <th>1</th>\n",
       "      <th>Deactivated</th>\n",
       "      <th>Still alive</th>\n",
       "    </tr>\n",
       "  </thead>\n",
       "  <tbody>\n",
       "    <tr>\n",
       "      <th>0 to 30 days</th>\n",
       "      <td>5417</td>\n",
       "      <td>913</td>\n",
       "      <td>1799</td>\n",
       "      <td>1437</td>\n",
       "      <td>4175</td>\n",
       "      <td>4474</td>\n",
       "      <td>917</td>\n",
       "      <td>2201</td>\n",
       "      <td>7365</td>\n",
       "      <td>3213</td>\n",
       "      <td>6353</td>\n",
       "    </tr>\n",
       "    <tr>\n",
       "      <th>31 to 60 days</th>\n",
       "      <td>4604</td>\n",
       "      <td>792</td>\n",
       "      <td>1639</td>\n",
       "      <td>1499</td>\n",
       "      <td>3763</td>\n",
       "      <td>3998</td>\n",
       "      <td>773</td>\n",
       "      <td>1893</td>\n",
       "      <td>6641</td>\n",
       "      <td>1136</td>\n",
       "      <td>7398</td>\n",
       "    </tr>\n",
       "    <tr>\n",
       "      <th>61 days to 1 year</th>\n",
       "      <td>24076</td>\n",
       "      <td>4188</td>\n",
       "      <td>10696</td>\n",
       "      <td>6444</td>\n",
       "      <td>32118</td>\n",
       "      <td>6724</td>\n",
       "      <td>6562</td>\n",
       "      <td>16512</td>\n",
       "      <td>28892</td>\n",
       "      <td>11427</td>\n",
       "      <td>33977</td>\n",
       "    </tr>\n",
       "    <tr>\n",
       "      <th>over 1 year</th>\n",
       "      <td>22035</td>\n",
       "      <td>5362</td>\n",
       "      <td>6536</td>\n",
       "      <td>4818</td>\n",
       "      <td>28138</td>\n",
       "      <td>4991</td>\n",
       "      <td>5622</td>\n",
       "      <td>10647</td>\n",
       "      <td>28104</td>\n",
       "      <td>3859</td>\n",
       "      <td>34892</td>\n",
       "    </tr>\n",
       "  </tbody>\n",
       "</table>\n",
       "</div>"
      ],
      "text/plain": [
       "                      A1    A2     B1    C1      1     2     3      0      1  \\\n",
       "0 to 30 days        5417   913   1799  1437   4175  4474   917   2201   7365   \n",
       "31 to 60 days       4604   792   1639  1499   3763  3998   773   1893   6641   \n",
       "61 days to 1 year  24076  4188  10696  6444  32118  6724  6562  16512  28892   \n",
       "over 1 year        22035  5362   6536  4818  28138  4991  5622  10647  28104   \n",
       "\n",
       "                   Deactivated  Still alive  \n",
       "0 to 30 days              3213         6353  \n",
       "31 to 60 days             1136         7398  \n",
       "61 days to 1 year        11427        33977  \n",
       "over 1 year               3859        34892  "
      ]
     },
     "execution_count": 20,
     "metadata": {},
     "output_type": "execute_result"
    }
   ],
   "source": [
    "Tenure_Group_corr = get_merged_df(df, 'Tenure Group', ['dealertype', 'rateplan', 'goodcredit', 'User Status'])\n",
    "Tenure_Group_corr"
   ]
  },
  {
   "cell_type": "code",
   "execution_count": 21,
   "metadata": {},
   "outputs": [
    {
     "data": {
      "text/html": [
       "<div>\n",
       "<style>\n",
       "    .dataframe thead tr:only-child th {\n",
       "        text-align: right;\n",
       "    }\n",
       "\n",
       "    .dataframe thead th {\n",
       "        text-align: left;\n",
       "    }\n",
       "\n",
       "    .dataframe tbody tr th {\n",
       "        vertical-align: top;\n",
       "    }\n",
       "</style>\n",
       "<table border=\"1\" class=\"dataframe\">\n",
       "  <thead>\n",
       "    <tr style=\"text-align: right;\">\n",
       "      <th></th>\n",
       "      <th>A1</th>\n",
       "      <th>A2</th>\n",
       "      <th>B1</th>\n",
       "      <th>C1</th>\n",
       "      <th>1</th>\n",
       "      <th>2</th>\n",
       "      <th>3</th>\n",
       "      <th>0</th>\n",
       "      <th>1</th>\n",
       "    </tr>\n",
       "  </thead>\n",
       "  <tbody>\n",
       "    <tr>\n",
       "      <th>Deactivated</th>\n",
       "      <td>10631</td>\n",
       "      <td>2549</td>\n",
       "      <td>3879</td>\n",
       "      <td>2576</td>\n",
       "      <td>12469</td>\n",
       "      <td>3439</td>\n",
       "      <td>3727</td>\n",
       "      <td>8657</td>\n",
       "      <td>10978</td>\n",
       "    </tr>\n",
       "    <tr>\n",
       "      <th>Still alive</th>\n",
       "      <td>45501</td>\n",
       "      <td>8706</td>\n",
       "      <td>16791</td>\n",
       "      <td>11622</td>\n",
       "      <td>55725</td>\n",
       "      <td>16748</td>\n",
       "      <td>10147</td>\n",
       "      <td>22596</td>\n",
       "      <td>60024</td>\n",
       "    </tr>\n",
       "  </tbody>\n",
       "</table>\n",
       "</div>"
      ],
      "text/plain": [
       "                A1    A2     B1     C1      1      2      3      0      1\n",
       "Deactivated  10631  2549   3879   2576  12469   3439   3727   8657  10978\n",
       "Still alive  45501  8706  16791  11622  55725  16748  10147  22596  60024"
      ]
     },
     "execution_count": 21,
     "metadata": {},
     "output_type": "execute_result"
    }
   ],
   "source": [
    "User_Status_corr = get_merged_df(df,'User Status', ['dealertype', 'rateplan', 'goodcredit'])\n",
    "User_Status_corr"
   ]
  },
  {
   "cell_type": "code",
   "execution_count": 22,
   "metadata": {
    "collapsed": true
   },
   "outputs": [],
   "source": [
    "# import stats to do Chi square test\n",
    "from scipy import stats as ss"
   ]
  },
  {
   "cell_type": "code",
   "execution_count": 23,
   "metadata": {
    "collapsed": true
   },
   "outputs": [],
   "source": [
    "def get_CramerV_chi2p (contigency_dataframe):\n",
    "    '''return a tuple (Cramer's V value, chi square p value) based on given contigency table dataframe'''\n",
    "    \n",
    "    # get the array values \n",
    "    df_array = contigency_dataframe.values\n",
    "    \n",
    "    # get chi squre value and p value\n",
    "    chi2_p = ss.chi2_contingency(df_array)[:2]\n",
    "    \n",
    "    # calculate the Cramer's V value based on Wikipedia's formula\n",
    "    sample_total = df_array.sum()\n",
    "    shape_sub1 = min(df_array.shape) - 1\n",
    "    cramer_v = np.sqrt(chi2_p[0]/(sample_total * shape_sub1 ))\n",
    "    \n",
    "    return (cramer_v, chi2_p[1])\n",
    "\n",
    "# Printout the results of V value and P value\n",
    "def printout_vp(dataframe, main_factor, other_factor):\n",
    "    '''Based on given dataframe and main_factor and other_factor(s) to print out the v value and p value of chi squre test\n",
    "    on each paired main factor and other factor\n",
    "    \n",
    "    dataframe: the dataframe has all data information\n",
    "    main_factor: string, the main factor to be used, like User Status or Tenure Group\n",
    "    other_factor(s): string or a list of string, the other factors to be used with main factor\n",
    "    \n",
    "    no output'''\n",
    "    \n",
    "    if type(other_factor) == str:\n",
    "        chi2_str = to_contigency_table(dataframe, main_factor, other_factor)\n",
    "        chi2_values = get_CramerV_chi2p(chi2_str)\n",
    "        print('Between {} and {} factors:\\n The P value of Chi Square test is: {};\\n\\\n",
    " The Cramer V value is: {}.\\n-----------'.format(main_factor, other_factor, chi2_values[1], chi2_values[0]))\n",
    "        \n",
    "    elif type(other_factor) == list:\n",
    "        for factor in other_factor:\n",
    "            chi2_list = to_contigency_table(dataframe, main_factor, factor)\n",
    "            chi2_values = get_CramerV_chi2p(chi2_list)\n",
    "            print('Between {} and {} factors :\\n The P value of Chi Square test is: {};\\n\\\n",
    " The Cramer V value is: {}.\\n-----------\\n'.format(main_factor, factor, chi2_values[1], chi2_values[0]))\n",
    "    else:\n",
    "        raise ValueError('Please enter the correct factor name(s)')"
   ]
  },
  {
   "cell_type": "code",
   "execution_count": 24,
   "metadata": {},
   "outputs": [
    {
     "name": "stdout",
     "output_type": "stream",
     "text": [
      "Between Tenure Group and goodcredit factors :\n",
      " The P value of Chi Square test is: 9.906813176926e-311;\n",
      " The Cramer V value is: 0.11844013402718538.\n",
      "-----------\n",
      "\n",
      "Between Tenure Group and rateplan factors :\n",
      " The P value of Chi Square test is: 0.0;\n",
      " The Cramer V value is: 0.2235623772227456.\n",
      "-----------\n",
      "\n",
      "Between Tenure Group and dealertype factors :\n",
      " The P value of Chi Square test is: 3.933922195864395e-242;\n",
      " The Cramer V value is: 0.06126216189494606.\n",
      "-----------\n",
      "\n",
      "Between Tenure Group and User Status factors :\n",
      " The P value of Chi Square test is: 0.0;\n",
      " The Cramer V value is: 0.21307224406352068.\n",
      "-----------\n",
      "\n"
     ]
    }
   ],
   "source": [
    "printout_vp(df,'Tenure Group', ['goodcredit', 'rateplan','dealertype','User Status'])"
   ]
  },
  {
   "cell_type": "code",
   "execution_count": 25,
   "metadata": {},
   "outputs": [
    {
     "name": "stdout",
     "output_type": "stream",
     "text": [
      "Between User Status and goodcredit factors :\n",
      " The P value of Chi Square test is: 0.0;\n",
      " The Cramer V value is: 0.14310639281767454.\n",
      "-----------\n",
      "\n",
      "Between User Status and rateplan factors :\n",
      " The P value of Chi Square test is: 5.4332819334025574e-136;\n",
      " The Cramer V value is: 0.07805004973927918.\n",
      "-----------\n",
      "\n",
      "Between User Status and dealertype factors :\n",
      " The P value of Chi Square test is: 7.726596205628729e-22;\n",
      " The Cramer V value is: 0.03149207059004648.\n",
      "-----------\n",
      "\n"
     ]
    }
   ],
   "source": [
    "printout_vp(df,'User Status', ['goodcredit','rateplan','dealertype'])"
   ]
  }
 ],
 "metadata": {
  "kernelspec": {
   "display_name": "Python [conda env:py3]",
   "language": "python",
   "name": "conda-env-py3-py"
  },
  "language_info": {
   "codemirror_mode": {
    "name": "ipython",
    "version": 3
   },
   "file_extension": ".py",
   "mimetype": "text/x-python",
   "name": "python",
   "nbconvert_exporter": "python",
   "pygments_lexer": "ipython3",
   "version": "3.6.2"
  }
 },
 "nbformat": 4,
 "nbformat_minor": 2
}
